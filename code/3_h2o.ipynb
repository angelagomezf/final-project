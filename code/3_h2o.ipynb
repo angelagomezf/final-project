{
 "cells": [
  {
   "cell_type": "markdown",
   "metadata": {},
   "source": [
    "# Predicting Wine Rating with $h2o$"
   ]
  },
  {
   "cell_type": "markdown",
   "metadata": {},
   "source": [
    "### Importing libraries"
   ]
  },
  {
   "cell_type": "code",
   "execution_count": 1,
   "metadata": {},
   "outputs": [],
   "source": [
    "import pandas as pd\n",
    "import numpy as np\n",
    "\n",
    "import h2o\n",
    "from h2o.automl import H2OAutoML\n",
    "from sklearn import preprocessing\n",
    "\n",
    "from sklearn.model_selection import train_test_split"
   ]
  },
  {
   "cell_type": "markdown",
   "metadata": {},
   "source": [
    "### Initializing"
   ]
  },
  {
   "cell_type": "code",
   "execution_count": 2,
   "metadata": {},
   "outputs": [
    {
     "name": "stdout",
     "output_type": "stream",
     "text": [
      "Checking whether there is an H2O instance running at http://localhost:54321 ..... not found.\n",
      "Attempting to start a local H2O server...\n",
      "  Java Version: java version \"1.8.0_271\"; Java(TM) SE Runtime Environment (build 1.8.0_271-b09); Java HotSpot(TM) 64-Bit Server VM (build 25.271-b09, mixed mode)\n",
      "  Starting server from /Library/Frameworks/Python.framework/Versions/3.8/lib/python3.8/site-packages/h2o/backend/bin/h2o.jar\n",
      "  Ice root: /var/folders/25/3rfj5zyn0cx18kcqkgd4nn4m0000gn/T/tmp1t_4j1b3\n",
      "  JVM stdout: /var/folders/25/3rfj5zyn0cx18kcqkgd4nn4m0000gn/T/tmp1t_4j1b3/h2o_Angela_started_from_python.out\n",
      "  JVM stderr: /var/folders/25/3rfj5zyn0cx18kcqkgd4nn4m0000gn/T/tmp1t_4j1b3/h2o_Angela_started_from_python.err\n",
      "  Server is running at http://127.0.0.1:54321\n",
      "Connecting to H2O server at http://127.0.0.1:54321 ... successful.\n"
     ]
    },
    {
     "data": {
      "text/html": [
       "<div style=\"overflow:auto\"><table style=\"width:50%\"><tr><td>H2O_cluster_uptime:</td>\n",
       "<td>02 secs</td></tr>\n",
       "<tr><td>H2O_cluster_timezone:</td>\n",
       "<td>Europe/Madrid</td></tr>\n",
       "<tr><td>H2O_data_parsing_timezone:</td>\n",
       "<td>UTC</td></tr>\n",
       "<tr><td>H2O_cluster_version:</td>\n",
       "<td>3.32.0.2</td></tr>\n",
       "<tr><td>H2O_cluster_version_age:</td>\n",
       "<td>1 month </td></tr>\n",
       "<tr><td>H2O_cluster_name:</td>\n",
       "<td>H2O_from_python_Angela_5viemw</td></tr>\n",
       "<tr><td>H2O_cluster_total_nodes:</td>\n",
       "<td>1</td></tr>\n",
       "<tr><td>H2O_cluster_free_memory:</td>\n",
       "<td>3.556 Gb</td></tr>\n",
       "<tr><td>H2O_cluster_total_cores:</td>\n",
       "<td>8</td></tr>\n",
       "<tr><td>H2O_cluster_allowed_cores:</td>\n",
       "<td>8</td></tr>\n",
       "<tr><td>H2O_cluster_status:</td>\n",
       "<td>accepting new members, healthy</td></tr>\n",
       "<tr><td>H2O_connection_url:</td>\n",
       "<td>http://127.0.0.1:54321</td></tr>\n",
       "<tr><td>H2O_connection_proxy:</td>\n",
       "<td>{\"http\": null, \"https\": null}</td></tr>\n",
       "<tr><td>H2O_internal_security:</td>\n",
       "<td>False</td></tr>\n",
       "<tr><td>H2O_API_Extensions:</td>\n",
       "<td>Amazon S3, XGBoost, Algos, AutoML, Core V3, TargetEncoder, Core V4</td></tr>\n",
       "<tr><td>Python_version:</td>\n",
       "<td>3.8.5 final</td></tr></table></div>"
      ],
      "text/plain": [
       "--------------------------  ------------------------------------------------------------------\n",
       "H2O_cluster_uptime:         02 secs\n",
       "H2O_cluster_timezone:       Europe/Madrid\n",
       "H2O_data_parsing_timezone:  UTC\n",
       "H2O_cluster_version:        3.32.0.2\n",
       "H2O_cluster_version_age:    1 month\n",
       "H2O_cluster_name:           H2O_from_python_Angela_5viemw\n",
       "H2O_cluster_total_nodes:    1\n",
       "H2O_cluster_free_memory:    3.556 Gb\n",
       "H2O_cluster_total_cores:    8\n",
       "H2O_cluster_allowed_cores:  8\n",
       "H2O_cluster_status:         accepting new members, healthy\n",
       "H2O_connection_url:         http://127.0.0.1:54321\n",
       "H2O_connection_proxy:       {\"http\": null, \"https\": null}\n",
       "H2O_internal_security:      False\n",
       "H2O_API_Extensions:         Amazon S3, XGBoost, Algos, AutoML, Core V3, TargetEncoder, Core V4\n",
       "Python_version:             3.8.5 final\n",
       "--------------------------  ------------------------------------------------------------------"
      ]
     },
     "metadata": {},
     "output_type": "display_data"
    }
   ],
   "source": [
    "h2o.init()"
   ]
  },
  {
   "cell_type": "markdown",
   "metadata": {},
   "source": [
    "### Loading dataset"
   ]
  },
  {
   "cell_type": "code",
   "execution_count": 3,
   "metadata": {},
   "outputs": [
    {
     "name": "stdout",
     "output_type": "stream",
     "text": [
      "Loading dataset...\n",
      "Parse progress: |█████████████████████████████████████████████████████████| 100%\n",
      "Parse progress: |█████████████████████████████████████████████████████████| 100%\n"
     ]
    }
   ],
   "source": [
    "print('Loading dataset...')\n",
    "train = h2o.import_file(\"../data/train_dummy.csv\")\n",
    "test = h2o.import_file(\"../data/test_dummy.csv\")"
   ]
  },
  {
   "cell_type": "code",
   "execution_count": 4,
   "metadata": {},
   "outputs": [],
   "source": [
    "x = train.columns # X contains the list of columns used for training\n",
    "y = \"Rating\" # Specifies the name of the column we want to predict\n",
    "x.remove(y) # We delete the column \"Rating\" from x"
   ]
  },
  {
   "cell_type": "markdown",
   "metadata": {},
   "source": [
    "### Let's start optimizing and searching for algorithms"
   ]
  },
  {
   "cell_type": "code",
   "execution_count": 5,
   "metadata": {},
   "outputs": [
    {
     "name": "stdout",
     "output_type": "stream",
     "text": [
      "AutoML progress: |████████████████████████████████████████████████████████| 100%\n"
     ]
    }
   ],
   "source": [
    "automl = H2OAutoML(max_runtime_secs=1200)\n",
    "automl.train(x=x, y=y, training_frame=train)"
   ]
  },
  {
   "cell_type": "code",
   "execution_count": 6,
   "metadata": {},
   "outputs": [
    {
     "name": "stdout",
     "output_type": "stream",
     "text": [
      "gbm prediction progress: |████████████████████████████████████████████████| 100%\n"
     ]
    }
   ],
   "source": [
    "predictions = automl.predict(test)"
   ]
  },
  {
   "cell_type": "code",
   "execution_count": 7,
   "metadata": {},
   "outputs": [],
   "source": [
    "model = predictions.as_data_frame()\n",
    "columns = ['Rating_Predicted']\n",
    "model.columns = columns"
   ]
  },
  {
   "cell_type": "code",
   "execution_count": 9,
   "metadata": {},
   "outputs": [
    {
     "data": {
      "text/html": [
       "<div>\n",
       "<style scoped>\n",
       "    .dataframe tbody tr th:only-of-type {\n",
       "        vertical-align: middle;\n",
       "    }\n",
       "\n",
       "    .dataframe tbody tr th {\n",
       "        vertical-align: top;\n",
       "    }\n",
       "\n",
       "    .dataframe thead th {\n",
       "        text-align: right;\n",
       "    }\n",
       "</style>\n",
       "<table border=\"1\" class=\"dataframe\">\n",
       "  <thead>\n",
       "    <tr style=\"text-align: right;\">\n",
       "      <th></th>\n",
       "      <th>Rating_Predicted</th>\n",
       "    </tr>\n",
       "  </thead>\n",
       "  <tbody>\n",
       "    <tr>\n",
       "      <th>0</th>\n",
       "      <td>4.21</td>\n",
       "    </tr>\n",
       "    <tr>\n",
       "      <th>1</th>\n",
       "      <td>4.21</td>\n",
       "    </tr>\n",
       "    <tr>\n",
       "      <th>2</th>\n",
       "      <td>4.06</td>\n",
       "    </tr>\n",
       "    <tr>\n",
       "      <th>3</th>\n",
       "      <td>3.78</td>\n",
       "    </tr>\n",
       "    <tr>\n",
       "      <th>4</th>\n",
       "      <td>3.82</td>\n",
       "    </tr>\n",
       "    <tr>\n",
       "      <th>...</th>\n",
       "      <td>...</td>\n",
       "    </tr>\n",
       "    <tr>\n",
       "      <th>2208</th>\n",
       "      <td>3.85</td>\n",
       "    </tr>\n",
       "    <tr>\n",
       "      <th>2209</th>\n",
       "      <td>3.69</td>\n",
       "    </tr>\n",
       "    <tr>\n",
       "      <th>2210</th>\n",
       "      <td>4.00</td>\n",
       "    </tr>\n",
       "    <tr>\n",
       "      <th>2211</th>\n",
       "      <td>3.83</td>\n",
       "    </tr>\n",
       "    <tr>\n",
       "      <th>2212</th>\n",
       "      <td>4.02</td>\n",
       "    </tr>\n",
       "  </tbody>\n",
       "</table>\n",
       "<p>2213 rows × 1 columns</p>\n",
       "</div>"
      ],
      "text/plain": [
       "      Rating_Predicted\n",
       "0                 4.21\n",
       "1                 4.21\n",
       "2                 4.06\n",
       "3                 3.78\n",
       "4                 3.82\n",
       "...                ...\n",
       "2208              3.85\n",
       "2209              3.69\n",
       "2210              4.00\n",
       "2211              3.83\n",
       "2212              4.02\n",
       "\n",
       "[2213 rows x 1 columns]"
      ]
     },
     "execution_count": 9,
     "metadata": {},
     "output_type": "execute_result"
    }
   ],
   "source": [
    "model = model.round(2)\n",
    "model"
   ]
  },
  {
   "cell_type": "markdown",
   "metadata": {},
   "source": [
    "### Checking model performance and metrics"
   ]
  },
  {
   "cell_type": "code",
   "execution_count": 10,
   "metadata": {},
   "outputs": [
    {
     "data": {
      "text/html": [
       "<table>\n",
       "<thead>\n",
       "<tr><th>model_id                                       </th><th style=\"text-align: right;\">  mean_residual_deviance</th><th style=\"text-align: right;\">    rmse</th><th style=\"text-align: right;\">      mse</th><th style=\"text-align: right;\">     mae</th><th style=\"text-align: right;\">    rmsle</th></tr>\n",
       "</thead>\n",
       "<tbody>\n",
       "<tr><td>GBM_grid__1_AutoML_20201217_215808_model_2     </td><td style=\"text-align: right;\">               0.0342985</td><td style=\"text-align: right;\">0.185198</td><td style=\"text-align: right;\">0.0342985</td><td style=\"text-align: right;\">0.143751</td><td style=\"text-align: right;\">0.0388036</td></tr>\n",
       "<tr><td>GBM_grid__1_AutoML_20201217_215808_model_14    </td><td style=\"text-align: right;\">               0.0343635</td><td style=\"text-align: right;\">0.185374</td><td style=\"text-align: right;\">0.0343635</td><td style=\"text-align: right;\">0.144096</td><td style=\"text-align: right;\">0.0388476</td></tr>\n",
       "<tr><td>GBM_2_AutoML_20201217_215808                   </td><td style=\"text-align: right;\">               0.0343748</td><td style=\"text-align: right;\">0.185404</td><td style=\"text-align: right;\">0.0343748</td><td style=\"text-align: right;\">0.144102</td><td style=\"text-align: right;\">0.0388445</td></tr>\n",
       "<tr><td>GBM_grid__1_AutoML_20201217_215808_model_26    </td><td style=\"text-align: right;\">               0.0343863</td><td style=\"text-align: right;\">0.185435</td><td style=\"text-align: right;\">0.0343863</td><td style=\"text-align: right;\">0.144162</td><td style=\"text-align: right;\">0.0388531</td></tr>\n",
       "<tr><td>GBM_1_AutoML_20201217_215808                   </td><td style=\"text-align: right;\">               0.0343873</td><td style=\"text-align: right;\">0.185438</td><td style=\"text-align: right;\">0.0343873</td><td style=\"text-align: right;\">0.143989</td><td style=\"text-align: right;\">0.038845 </td></tr>\n",
       "<tr><td>XGBoost_grid__1_AutoML_20201217_215808_model_10</td><td style=\"text-align: right;\">               0.0344287</td><td style=\"text-align: right;\">0.18555 </td><td style=\"text-align: right;\">0.0344287</td><td style=\"text-align: right;\">0.144335</td><td style=\"text-align: right;\">0.0388647</td></tr>\n",
       "<tr><td>GBM_grid__1_AutoML_20201217_215808_model_4     </td><td style=\"text-align: right;\">               0.0344866</td><td style=\"text-align: right;\">0.185706</td><td style=\"text-align: right;\">0.0344866</td><td style=\"text-align: right;\">0.144704</td><td style=\"text-align: right;\">0.0389219</td></tr>\n",
       "<tr><td>GBM_grid__1_AutoML_20201217_215808_model_16    </td><td style=\"text-align: right;\">               0.0345498</td><td style=\"text-align: right;\">0.185876</td><td style=\"text-align: right;\">0.0345498</td><td style=\"text-align: right;\">0.144592</td><td style=\"text-align: right;\">0.0389559</td></tr>\n",
       "<tr><td>XGBoost_3_AutoML_20201217_215808               </td><td style=\"text-align: right;\">               0.0346008</td><td style=\"text-align: right;\">0.186013</td><td style=\"text-align: right;\">0.0346008</td><td style=\"text-align: right;\">0.14472 </td><td style=\"text-align: right;\">0.0389519</td></tr>\n",
       "<tr><td>GBM_3_AutoML_20201217_215808                   </td><td style=\"text-align: right;\">               0.0346175</td><td style=\"text-align: right;\">0.186058</td><td style=\"text-align: right;\">0.0346175</td><td style=\"text-align: right;\">0.144542</td><td style=\"text-align: right;\">0.0389687</td></tr>\n",
       "</tbody>\n",
       "</table>"
      ]
     },
     "metadata": {},
     "output_type": "display_data"
    },
    {
     "data": {
      "text/plain": []
     },
     "execution_count": 10,
     "metadata": {},
     "output_type": "execute_result"
    }
   ],
   "source": [
    "lb = automl.leaderboard\n",
    "lb"
   ]
  },
  {
   "cell_type": "code",
   "execution_count": 11,
   "metadata": {},
   "outputs": [],
   "source": [
    "ld = automl.leader"
   ]
  },
  {
   "cell_type": "code",
   "execution_count": null,
   "metadata": {},
   "outputs": [],
   "source": [
    "m = h2o.get_model(ld)"
   ]
  },
  {
   "cell_type": "markdown",
   "metadata": {},
   "source": [
    "### Adding Categories Sommelier (see \"*2_data-modeling*\")"
   ]
  },
  {
   "cell_type": "code",
   "execution_count": 13,
   "metadata": {},
   "outputs": [],
   "source": [
    "def categorySomm(rating):\n",
    "    if 4.90 <= rating:\n",
    "        return \"Extraordinary\"\n",
    "    if (3.90 <= rating) & (rating <= 4.80):\n",
    "        return \"Outstanding\"\n",
    "    if (3.00 <= rating) & (rating <= 3.89):\n",
    "        return \"Above Average to Very Good\"\n",
    "    if (2.00 <= rating) & (rating <= 2.99):\n",
    "        return \"Average\"\n",
    "    if (1.00 <= rating) & (rating <= 1.99):\n",
    "        return \"Below Average\"\n",
    "    if (0.00 <= rating) & (rating <= 0.99):\n",
    "        return \"Unacceptable\"\n",
    "    return \"other\""
   ]
  },
  {
   "cell_type": "code",
   "execution_count": 14,
   "metadata": {},
   "outputs": [],
   "source": [
    "model[\"Rating_Somm\"] = model[\"Rating_Predicted\"].apply(categorySomm)"
   ]
  },
  {
   "cell_type": "code",
   "execution_count": 15,
   "metadata": {},
   "outputs": [
    {
     "data": {
      "text/html": [
       "<div>\n",
       "<style scoped>\n",
       "    .dataframe tbody tr th:only-of-type {\n",
       "        vertical-align: middle;\n",
       "    }\n",
       "\n",
       "    .dataframe tbody tr th {\n",
       "        vertical-align: top;\n",
       "    }\n",
       "\n",
       "    .dataframe thead th {\n",
       "        text-align: right;\n",
       "    }\n",
       "</style>\n",
       "<table border=\"1\" class=\"dataframe\">\n",
       "  <thead>\n",
       "    <tr style=\"text-align: right;\">\n",
       "      <th></th>\n",
       "      <th>Rating_Predicted</th>\n",
       "      <th>Rating_Somm</th>\n",
       "    </tr>\n",
       "  </thead>\n",
       "  <tbody>\n",
       "    <tr>\n",
       "      <th>0</th>\n",
       "      <td>4.21</td>\n",
       "      <td>Outstanding</td>\n",
       "    </tr>\n",
       "    <tr>\n",
       "      <th>1</th>\n",
       "      <td>4.21</td>\n",
       "      <td>Outstanding</td>\n",
       "    </tr>\n",
       "    <tr>\n",
       "      <th>2</th>\n",
       "      <td>4.06</td>\n",
       "      <td>Outstanding</td>\n",
       "    </tr>\n",
       "    <tr>\n",
       "      <th>3</th>\n",
       "      <td>3.78</td>\n",
       "      <td>Above Average to Very Good</td>\n",
       "    </tr>\n",
       "    <tr>\n",
       "      <th>4</th>\n",
       "      <td>3.82</td>\n",
       "      <td>Above Average to Very Good</td>\n",
       "    </tr>\n",
       "    <tr>\n",
       "      <th>...</th>\n",
       "      <td>...</td>\n",
       "      <td>...</td>\n",
       "    </tr>\n",
       "    <tr>\n",
       "      <th>2208</th>\n",
       "      <td>3.85</td>\n",
       "      <td>Above Average to Very Good</td>\n",
       "    </tr>\n",
       "    <tr>\n",
       "      <th>2209</th>\n",
       "      <td>3.69</td>\n",
       "      <td>Above Average to Very Good</td>\n",
       "    </tr>\n",
       "    <tr>\n",
       "      <th>2210</th>\n",
       "      <td>4.00</td>\n",
       "      <td>Outstanding</td>\n",
       "    </tr>\n",
       "    <tr>\n",
       "      <th>2211</th>\n",
       "      <td>3.83</td>\n",
       "      <td>Above Average to Very Good</td>\n",
       "    </tr>\n",
       "    <tr>\n",
       "      <th>2212</th>\n",
       "      <td>4.02</td>\n",
       "      <td>Outstanding</td>\n",
       "    </tr>\n",
       "  </tbody>\n",
       "</table>\n",
       "<p>2213 rows × 2 columns</p>\n",
       "</div>"
      ],
      "text/plain": [
       "      Rating_Predicted                 Rating_Somm\n",
       "0                 4.21                 Outstanding\n",
       "1                 4.21                 Outstanding\n",
       "2                 4.06                 Outstanding\n",
       "3                 3.78  Above Average to Very Good\n",
       "4                 3.82  Above Average to Very Good\n",
       "...                ...                         ...\n",
       "2208              3.85  Above Average to Very Good\n",
       "2209              3.69  Above Average to Very Good\n",
       "2210              4.00                 Outstanding\n",
       "2211              3.83  Above Average to Very Good\n",
       "2212              4.02                 Outstanding\n",
       "\n",
       "[2213 rows x 2 columns]"
      ]
     },
     "execution_count": 15,
     "metadata": {},
     "output_type": "execute_result"
    }
   ],
   "source": [
    "model"
   ]
  },
  {
   "cell_type": "code",
   "execution_count": 16,
   "metadata": {
    "scrolled": true
   },
   "outputs": [
    {
     "data": {
      "text/plain": [
       "Above Average to Very Good    1302\n",
       "Outstanding                    910\n",
       "Average                          1\n",
       "Name: Rating_Somm, dtype: int64"
      ]
     },
     "execution_count": 16,
     "metadata": {},
     "output_type": "execute_result"
    }
   ],
   "source": [
    "model[\"Rating_Somm\"].value_counts()"
   ]
  },
  {
   "cell_type": "markdown",
   "metadata": {},
   "source": [
    "### Comparing with original dataset"
   ]
  },
  {
   "cell_type": "code",
   "execution_count": 17,
   "metadata": {},
   "outputs": [],
   "source": [
    "wines = pd.read_csv(\"../data/wines_somm.csv\")\n",
    "wines.drop(\"Unnamed: 0\", axis=1, inplace=True)"
   ]
  },
  {
   "cell_type": "code",
   "execution_count": 18,
   "metadata": {},
   "outputs": [
    {
     "data": {
      "text/html": [
       "<div>\n",
       "<style scoped>\n",
       "    .dataframe tbody tr th:only-of-type {\n",
       "        vertical-align: middle;\n",
       "    }\n",
       "\n",
       "    .dataframe tbody tr th {\n",
       "        vertical-align: top;\n",
       "    }\n",
       "\n",
       "    .dataframe thead th {\n",
       "        text-align: right;\n",
       "    }\n",
       "</style>\n",
       "<table border=\"1\" class=\"dataframe\">\n",
       "  <thead>\n",
       "    <tr style=\"text-align: right;\">\n",
       "      <th></th>\n",
       "      <th>Name</th>\n",
       "      <th>Country</th>\n",
       "      <th>Region</th>\n",
       "      <th>Winery</th>\n",
       "      <th>Rating</th>\n",
       "      <th>NumberOfRatings</th>\n",
       "      <th>Price</th>\n",
       "      <th>Year</th>\n",
       "      <th>WineStyle</th>\n",
       "      <th>Full_Name</th>\n",
       "      <th>Rating_Somm</th>\n",
       "    </tr>\n",
       "  </thead>\n",
       "  <tbody>\n",
       "    <tr>\n",
       "      <th>0</th>\n",
       "      <td>Pomerol 2011</td>\n",
       "      <td>France</td>\n",
       "      <td>Pomerol</td>\n",
       "      <td>Château La Providence</td>\n",
       "      <td>4.2</td>\n",
       "      <td>100</td>\n",
       "      <td>95.00</td>\n",
       "      <td>2011</td>\n",
       "      <td>red</td>\n",
       "      <td>Pomerol 2011 Château La Providence red</td>\n",
       "      <td>Outstanding</td>\n",
       "    </tr>\n",
       "    <tr>\n",
       "      <th>1</th>\n",
       "      <td>Lirac 2017</td>\n",
       "      <td>France</td>\n",
       "      <td>Lirac</td>\n",
       "      <td>Château Mont-Redon</td>\n",
       "      <td>4.3</td>\n",
       "      <td>100</td>\n",
       "      <td>15.50</td>\n",
       "      <td>2017</td>\n",
       "      <td>red</td>\n",
       "      <td>Lirac 2017 Château Mont-Redon red</td>\n",
       "      <td>Outstanding</td>\n",
       "    </tr>\n",
       "    <tr>\n",
       "      <th>2</th>\n",
       "      <td>Erta e China Rosso di Toscana 2015</td>\n",
       "      <td>Italy</td>\n",
       "      <td>Toscana</td>\n",
       "      <td>Renzo Masi</td>\n",
       "      <td>3.9</td>\n",
       "      <td>100</td>\n",
       "      <td>7.45</td>\n",
       "      <td>2015</td>\n",
       "      <td>red</td>\n",
       "      <td>Erta e China Rosso di Toscana 2015 Renzo Masi red</td>\n",
       "      <td>Outstanding</td>\n",
       "    </tr>\n",
       "    <tr>\n",
       "      <th>3</th>\n",
       "      <td>Bardolino 2019</td>\n",
       "      <td>Italy</td>\n",
       "      <td>Bardolino</td>\n",
       "      <td>Cavalchina</td>\n",
       "      <td>3.5</td>\n",
       "      <td>100</td>\n",
       "      <td>8.72</td>\n",
       "      <td>2019</td>\n",
       "      <td>red</td>\n",
       "      <td>Bardolino 2019 Cavalchina red</td>\n",
       "      <td>Above Average to Very Good</td>\n",
       "    </tr>\n",
       "    <tr>\n",
       "      <th>4</th>\n",
       "      <td>Ried Scheibner Pinot Noir 2016</td>\n",
       "      <td>Austria</td>\n",
       "      <td>Carnuntum</td>\n",
       "      <td>Markowitsch</td>\n",
       "      <td>3.9</td>\n",
       "      <td>100</td>\n",
       "      <td>29.15</td>\n",
       "      <td>2016</td>\n",
       "      <td>red</td>\n",
       "      <td>Ried Scheibner Pinot Noir 2016 Markowitsch red</td>\n",
       "      <td>Outstanding</td>\n",
       "    </tr>\n",
       "  </tbody>\n",
       "</table>\n",
       "</div>"
      ],
      "text/plain": [
       "                                 Name  Country     Region  \\\n",
       "0                        Pomerol 2011   France    Pomerol   \n",
       "1                          Lirac 2017   France      Lirac   \n",
       "2  Erta e China Rosso di Toscana 2015    Italy    Toscana   \n",
       "3                      Bardolino 2019    Italy  Bardolino   \n",
       "4      Ried Scheibner Pinot Noir 2016  Austria  Carnuntum   \n",
       "\n",
       "                  Winery  Rating  NumberOfRatings  Price  Year WineStyle  \\\n",
       "0  Château La Providence     4.2              100  95.00  2011       red   \n",
       "1     Château Mont-Redon     4.3              100  15.50  2017       red   \n",
       "2             Renzo Masi     3.9              100   7.45  2015       red   \n",
       "3             Cavalchina     3.5              100   8.72  2019       red   \n",
       "4            Markowitsch     3.9              100  29.15  2016       red   \n",
       "\n",
       "                                           Full_Name  \\\n",
       "0             Pomerol 2011 Château La Providence red   \n",
       "1                  Lirac 2017 Château Mont-Redon red   \n",
       "2  Erta e China Rosso di Toscana 2015 Renzo Masi red   \n",
       "3                      Bardolino 2019 Cavalchina red   \n",
       "4     Ried Scheibner Pinot Noir 2016 Markowitsch red   \n",
       "\n",
       "                  Rating_Somm  \n",
       "0                 Outstanding  \n",
       "1                 Outstanding  \n",
       "2                 Outstanding  \n",
       "3  Above Average to Very Good  \n",
       "4                 Outstanding  "
      ]
     },
     "execution_count": 18,
     "metadata": {},
     "output_type": "execute_result"
    }
   ],
   "source": [
    "wines.head()"
   ]
  },
  {
   "cell_type": "markdown",
   "metadata": {},
   "source": [
    "#### Key Takeaway:\n",
    "- The model has potential to be optimized since the rating doesn't match perfectly the one from Vivino"
   ]
  },
  {
   "cell_type": "markdown",
   "metadata": {},
   "source": [
    "---"
   ]
  },
  {
   "cell_type": "markdown",
   "metadata": {},
   "source": [
    "# Demo"
   ]
  },
  {
   "cell_type": "code",
   "execution_count": 19,
   "metadata": {},
   "outputs": [],
   "source": [
    "data = {\"Country_Luxembourg\": [1],\n",
    "        \"Price\": [19.19],\n",
    "        \"Year\": [2005],\n",
    "        \"WineStyle\": \"white\"\n",
    "        }"
   ]
  },
  {
   "cell_type": "code",
   "execution_count": 20,
   "metadata": {},
   "outputs": [
    {
     "data": {
      "text/html": [
       "<div>\n",
       "<style scoped>\n",
       "    .dataframe tbody tr th:only-of-type {\n",
       "        vertical-align: middle;\n",
       "    }\n",
       "\n",
       "    .dataframe tbody tr th {\n",
       "        vertical-align: top;\n",
       "    }\n",
       "\n",
       "    .dataframe thead th {\n",
       "        text-align: right;\n",
       "    }\n",
       "</style>\n",
       "<table border=\"1\" class=\"dataframe\">\n",
       "  <thead>\n",
       "    <tr style=\"text-align: right;\">\n",
       "      <th></th>\n",
       "      <th>Country_Luxembourg</th>\n",
       "      <th>Price</th>\n",
       "      <th>Year</th>\n",
       "      <th>WineStyle</th>\n",
       "    </tr>\n",
       "  </thead>\n",
       "  <tbody>\n",
       "    <tr>\n",
       "      <th>0</th>\n",
       "      <td>1</td>\n",
       "      <td>19.19</td>\n",
       "      <td>2005</td>\n",
       "      <td>white</td>\n",
       "    </tr>\n",
       "  </tbody>\n",
       "</table>\n",
       "</div>"
      ],
      "text/plain": [
       "   Country_Luxembourg  Price  Year WineStyle\n",
       "0                   1  19.19  2005     white"
      ]
     },
     "execution_count": 20,
     "metadata": {},
     "output_type": "execute_result"
    }
   ],
   "source": [
    "demo = pd.DataFrame(data)\n",
    "demo"
   ]
  },
  {
   "cell_type": "markdown",
   "metadata": {},
   "source": [
    "#### Function to convert ``WineStyle`` to numerical"
   ]
  },
  {
   "cell_type": "code",
   "execution_count": 21,
   "metadata": {},
   "outputs": [],
   "source": [
    "def convertCat(df):\n",
    "    style = {\"red\":1, \"white\":2, \"sparkling\":3, \"rose\":4}\n",
    "    df[\"WineStyle\"] = df[\"WineStyle\"].map(style)\n",
    "    return df"
   ]
  },
  {
   "cell_type": "code",
   "execution_count": 22,
   "metadata": {},
   "outputs": [],
   "source": [
    "demo = convertCat(demo)"
   ]
  },
  {
   "cell_type": "markdown",
   "metadata": {},
   "source": [
    "#### Converting df to h2o instance"
   ]
  },
  {
   "cell_type": "code",
   "execution_count": 23,
   "metadata": {},
   "outputs": [
    {
     "name": "stdout",
     "output_type": "stream",
     "text": [
      "Parse progress: |█████████████████████████████████████████████████████████| 100%\n"
     ]
    }
   ],
   "source": [
    "hf = h2o.H2OFrame(demo)"
   ]
  },
  {
   "cell_type": "code",
   "execution_count": 24,
   "metadata": {},
   "outputs": [
    {
     "name": "stdout",
     "output_type": "stream",
     "text": [
      "gbm prediction progress: |████████████████████████████████████████████████| 100%\n"
     ]
    },
    {
     "name": "stderr",
     "output_type": "stream",
     "text": [
      "/Library/Frameworks/Python.framework/Versions/3.8/lib/python3.8/site-packages/h2o/job.py:70: UserWarning: Test/Validation dataset is missing column 'C1': substituting in a column of NaN\n",
      "  warnings.warn(w)\n",
      "/Library/Frameworks/Python.framework/Versions/3.8/lib/python3.8/site-packages/h2o/job.py:70: UserWarning: Test/Validation dataset is missing column 'Country_Argentina': substituting in a column of NaN\n",
      "  warnings.warn(w)\n",
      "/Library/Frameworks/Python.framework/Versions/3.8/lib/python3.8/site-packages/h2o/job.py:70: UserWarning: Test/Validation dataset is missing column 'Country_Australia': substituting in a column of NaN\n",
      "  warnings.warn(w)\n",
      "/Library/Frameworks/Python.framework/Versions/3.8/lib/python3.8/site-packages/h2o/job.py:70: UserWarning: Test/Validation dataset is missing column 'Country_Austria': substituting in a column of NaN\n",
      "  warnings.warn(w)\n",
      "/Library/Frameworks/Python.framework/Versions/3.8/lib/python3.8/site-packages/h2o/job.py:70: UserWarning: Test/Validation dataset is missing column 'Country_Brazil': substituting in a column of NaN\n",
      "  warnings.warn(w)\n",
      "/Library/Frameworks/Python.framework/Versions/3.8/lib/python3.8/site-packages/h2o/job.py:70: UserWarning: Test/Validation dataset is missing column 'Country_Bulgaria': substituting in a column of NaN\n",
      "  warnings.warn(w)\n",
      "/Library/Frameworks/Python.framework/Versions/3.8/lib/python3.8/site-packages/h2o/job.py:70: UserWarning: Test/Validation dataset is missing column 'Country_Canada': substituting in a column of NaN\n",
      "  warnings.warn(w)\n",
      "/Library/Frameworks/Python.framework/Versions/3.8/lib/python3.8/site-packages/h2o/job.py:70: UserWarning: Test/Validation dataset is missing column 'Country_Chile': substituting in a column of NaN\n",
      "  warnings.warn(w)\n",
      "/Library/Frameworks/Python.framework/Versions/3.8/lib/python3.8/site-packages/h2o/job.py:70: UserWarning: Test/Validation dataset is missing column 'Country_China': substituting in a column of NaN\n",
      "  warnings.warn(w)\n",
      "/Library/Frameworks/Python.framework/Versions/3.8/lib/python3.8/site-packages/h2o/job.py:70: UserWarning: Test/Validation dataset is missing column 'Country_Croatia': substituting in a column of NaN\n",
      "  warnings.warn(w)\n",
      "/Library/Frameworks/Python.framework/Versions/3.8/lib/python3.8/site-packages/h2o/job.py:70: UserWarning: Test/Validation dataset is missing column 'Country_Czech Republic': substituting in a column of NaN\n",
      "  warnings.warn(w)\n",
      "/Library/Frameworks/Python.framework/Versions/3.8/lib/python3.8/site-packages/h2o/job.py:70: UserWarning: Test/Validation dataset is missing column 'Country_France': substituting in a column of NaN\n",
      "  warnings.warn(w)\n",
      "/Library/Frameworks/Python.framework/Versions/3.8/lib/python3.8/site-packages/h2o/job.py:70: UserWarning: Test/Validation dataset is missing column 'Country_Georgia': substituting in a column of NaN\n",
      "  warnings.warn(w)\n",
      "/Library/Frameworks/Python.framework/Versions/3.8/lib/python3.8/site-packages/h2o/job.py:70: UserWarning: Test/Validation dataset is missing column 'Country_Germany': substituting in a column of NaN\n",
      "  warnings.warn(w)\n",
      "/Library/Frameworks/Python.framework/Versions/3.8/lib/python3.8/site-packages/h2o/job.py:70: UserWarning: Test/Validation dataset is missing column 'Country_Greece': substituting in a column of NaN\n",
      "  warnings.warn(w)\n",
      "/Library/Frameworks/Python.framework/Versions/3.8/lib/python3.8/site-packages/h2o/job.py:70: UserWarning: Test/Validation dataset is missing column 'Country_Hungary': substituting in a column of NaN\n",
      "  warnings.warn(w)\n",
      "/Library/Frameworks/Python.framework/Versions/3.8/lib/python3.8/site-packages/h2o/job.py:70: UserWarning: Test/Validation dataset is missing column 'Country_Israel': substituting in a column of NaN\n",
      "  warnings.warn(w)\n",
      "/Library/Frameworks/Python.framework/Versions/3.8/lib/python3.8/site-packages/h2o/job.py:70: UserWarning: Test/Validation dataset is missing column 'Country_Italy': substituting in a column of NaN\n",
      "  warnings.warn(w)\n",
      "/Library/Frameworks/Python.framework/Versions/3.8/lib/python3.8/site-packages/h2o/job.py:70: UserWarning: Test/Validation dataset is missing column 'Country_Lebanon': substituting in a column of NaN\n",
      "  warnings.warn(w)\n",
      "/Library/Frameworks/Python.framework/Versions/3.8/lib/python3.8/site-packages/h2o/job.py:70: UserWarning: Test/Validation dataset is missing column 'Country_Moldova': substituting in a column of NaN\n",
      "  warnings.warn(w)\n",
      "/Library/Frameworks/Python.framework/Versions/3.8/lib/python3.8/site-packages/h2o/job.py:70: UserWarning: Test/Validation dataset is missing column 'Country_New Zealand': substituting in a column of NaN\n",
      "  warnings.warn(w)\n",
      "/Library/Frameworks/Python.framework/Versions/3.8/lib/python3.8/site-packages/h2o/job.py:70: UserWarning: Test/Validation dataset is missing column 'Country_Portugal': substituting in a column of NaN\n",
      "  warnings.warn(w)\n",
      "/Library/Frameworks/Python.framework/Versions/3.8/lib/python3.8/site-packages/h2o/job.py:70: UserWarning: Test/Validation dataset is missing column 'Country_Romania': substituting in a column of NaN\n",
      "  warnings.warn(w)\n",
      "/Library/Frameworks/Python.framework/Versions/3.8/lib/python3.8/site-packages/h2o/job.py:70: UserWarning: Test/Validation dataset is missing column 'Country_Slovakia': substituting in a column of NaN\n",
      "  warnings.warn(w)\n",
      "/Library/Frameworks/Python.framework/Versions/3.8/lib/python3.8/site-packages/h2o/job.py:70: UserWarning: Test/Validation dataset is missing column 'Country_Slovenia': substituting in a column of NaN\n",
      "  warnings.warn(w)\n",
      "/Library/Frameworks/Python.framework/Versions/3.8/lib/python3.8/site-packages/h2o/job.py:70: UserWarning: Test/Validation dataset is missing column 'Country_South Africa': substituting in a column of NaN\n",
      "  warnings.warn(w)\n",
      "/Library/Frameworks/Python.framework/Versions/3.8/lib/python3.8/site-packages/h2o/job.py:70: UserWarning: Test/Validation dataset is missing column 'Country_Spain': substituting in a column of NaN\n",
      "  warnings.warn(w)\n",
      "/Library/Frameworks/Python.framework/Versions/3.8/lib/python3.8/site-packages/h2o/job.py:70: UserWarning: Test/Validation dataset is missing column 'Country_Switzerland': substituting in a column of NaN\n",
      "  warnings.warn(w)\n",
      "/Library/Frameworks/Python.framework/Versions/3.8/lib/python3.8/site-packages/h2o/job.py:70: UserWarning: Test/Validation dataset is missing column 'Country_Turkey': substituting in a column of NaN\n",
      "  warnings.warn(w)\n",
      "/Library/Frameworks/Python.framework/Versions/3.8/lib/python3.8/site-packages/h2o/job.py:70: UserWarning: Test/Validation dataset is missing column 'Country_United Kingdom': substituting in a column of NaN\n",
      "  warnings.warn(w)\n",
      "/Library/Frameworks/Python.framework/Versions/3.8/lib/python3.8/site-packages/h2o/job.py:70: UserWarning: Test/Validation dataset is missing column 'Country_United States': substituting in a column of NaN\n",
      "  warnings.warn(w)\n",
      "/Library/Frameworks/Python.framework/Versions/3.8/lib/python3.8/site-packages/h2o/job.py:70: UserWarning: Test/Validation dataset is missing column 'Country_Uruguay': substituting in a column of NaN\n",
      "  warnings.warn(w)\n"
     ]
    }
   ],
   "source": [
    "rating_pred = automl.predict(hf)"
   ]
  },
  {
   "cell_type": "code",
   "execution_count": 25,
   "metadata": {},
   "outputs": [
    {
     "data": {
      "text/html": [
       "<div>\n",
       "<style scoped>\n",
       "    .dataframe tbody tr th:only-of-type {\n",
       "        vertical-align: middle;\n",
       "    }\n",
       "\n",
       "    .dataframe tbody tr th {\n",
       "        vertical-align: top;\n",
       "    }\n",
       "\n",
       "    .dataframe thead th {\n",
       "        text-align: right;\n",
       "    }\n",
       "</style>\n",
       "<table border=\"1\" class=\"dataframe\">\n",
       "  <thead>\n",
       "    <tr style=\"text-align: right;\">\n",
       "      <th></th>\n",
       "      <th>Country_Luxembourg</th>\n",
       "      <th>Price</th>\n",
       "      <th>Year</th>\n",
       "      <th>WineStyle</th>\n",
       "      <th>Rating_Predicted</th>\n",
       "      <th>Rating_Somm</th>\n",
       "    </tr>\n",
       "  </thead>\n",
       "  <tbody>\n",
       "    <tr>\n",
       "      <th>0</th>\n",
       "      <td>1</td>\n",
       "      <td>19.19</td>\n",
       "      <td>2005</td>\n",
       "      <td>2</td>\n",
       "      <td>3.848919</td>\n",
       "      <td>Outstanding</td>\n",
       "    </tr>\n",
       "  </tbody>\n",
       "</table>\n",
       "</div>"
      ],
      "text/plain": [
       "   Country_Luxembourg  Price  Year  WineStyle  Rating_Predicted  Rating_Somm\n",
       "0                   1  19.19  2005          2          3.848919  Outstanding"
      ]
     },
     "execution_count": 25,
     "metadata": {},
     "output_type": "execute_result"
    }
   ],
   "source": [
    "pred = rating_pred.as_data_frame()\n",
    "demo['Rating_Predicted'] = pred\n",
    "demo[\"Rating_Somm\"] = model[\"Rating_Predicted\"].apply(categorySomm)\n",
    "demo"
   ]
  },
  {
   "cell_type": "code",
   "execution_count": null,
   "metadata": {},
   "outputs": [],
   "source": []
  },
  {
   "cell_type": "code",
   "execution_count": null,
   "metadata": {},
   "outputs": [],
   "source": []
  },
  {
   "cell_type": "code",
   "execution_count": null,
   "metadata": {},
   "outputs": [],
   "source": []
  },
  {
   "cell_type": "code",
   "execution_count": null,
   "metadata": {},
   "outputs": [],
   "source": []
  }
 ],
 "metadata": {
  "kernelspec": {
   "display_name": "Python 3",
   "language": "python",
   "name": "python3"
  },
  "language_info": {
   "codemirror_mode": {
    "name": "ipython",
    "version": 3
   },
   "file_extension": ".py",
   "mimetype": "text/x-python",
   "name": "python",
   "nbconvert_exporter": "python",
   "pygments_lexer": "ipython3",
   "version": "3.8.5"
  }
 },
 "nbformat": 4,
 "nbformat_minor": 4
}
