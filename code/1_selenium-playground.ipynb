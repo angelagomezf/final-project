{
 "cells": [
  {
   "cell_type": "markdown",
   "metadata": {},
   "source": [
    "# Scraping from Vivino w/ Selenium"
   ]
  },
  {
   "cell_type": "markdown",
   "metadata": {},
   "source": [
    "### Importing libraries"
   ]
  },
  {
   "cell_type": "code",
   "execution_count": 1,
   "metadata": {},
   "outputs": [],
   "source": [
    "import pandas as pd\n",
    "\n",
    "from selenium import webdriver\n",
    "from selenium.webdriver.common.keys import Keys\n",
    "from selenium.webdriver.support.ui import WebDriverWait\n",
    "from selenium.webdriver.support import expected_conditions\n",
    "from selenium.webdriver.common.by import By\n",
    "\n",
    "import time"
   ]
  },
  {
   "cell_type": "markdown",
   "metadata": {},
   "source": [
    "### Loading dataset"
   ]
  },
  {
   "cell_type": "code",
   "execution_count": 2,
   "metadata": {},
   "outputs": [],
   "source": [
    "wines = pd.read_csv(\"../data/wines_clean.csv\")"
   ]
  },
  {
   "cell_type": "code",
   "execution_count": 3,
   "metadata": {},
   "outputs": [],
   "source": [
    "wines.drop(\"Unnamed: 0\", axis=1, inplace=True)"
   ]
  },
  {
   "cell_type": "code",
   "execution_count": 4,
   "metadata": {},
   "outputs": [],
   "source": [
    "wines[\"ID\"] = wines.index + 1"
   ]
  },
  {
   "cell_type": "code",
   "execution_count": 5,
   "metadata": {},
   "outputs": [
    {
     "data": {
      "text/plain": [
       "Index(['Name', 'Country', 'Region', 'Winery', 'Rating', 'NumberOfRatings',\n",
       "       'Price', 'Year', 'WineStyle', 'Full_Name', 'ID'],\n",
       "      dtype='object')"
      ]
     },
     "execution_count": 5,
     "metadata": {},
     "output_type": "execute_result"
    }
   ],
   "source": [
    "wines.columns"
   ]
  },
  {
   "cell_type": "code",
   "execution_count": 6,
   "metadata": {},
   "outputs": [
    {
     "data": {
      "text/html": [
       "<div>\n",
       "<style scoped>\n",
       "    .dataframe tbody tr th:only-of-type {\n",
       "        vertical-align: middle;\n",
       "    }\n",
       "\n",
       "    .dataframe tbody tr th {\n",
       "        vertical-align: top;\n",
       "    }\n",
       "\n",
       "    .dataframe thead th {\n",
       "        text-align: right;\n",
       "    }\n",
       "</style>\n",
       "<table border=\"1\" class=\"dataframe\">\n",
       "  <thead>\n",
       "    <tr style=\"text-align: right;\">\n",
       "      <th></th>\n",
       "      <th>Name</th>\n",
       "      <th>Country</th>\n",
       "      <th>Region</th>\n",
       "      <th>Winery</th>\n",
       "      <th>Rating</th>\n",
       "      <th>NumberOfRatings</th>\n",
       "      <th>Price</th>\n",
       "      <th>Year</th>\n",
       "      <th>WineStyle</th>\n",
       "      <th>Full_Name</th>\n",
       "      <th>ID</th>\n",
       "    </tr>\n",
       "  </thead>\n",
       "  <tbody>\n",
       "    <tr>\n",
       "      <th>0</th>\n",
       "      <td>Pomerol 2011</td>\n",
       "      <td>France</td>\n",
       "      <td>Pomerol</td>\n",
       "      <td>Château La Providence</td>\n",
       "      <td>4.2</td>\n",
       "      <td>100</td>\n",
       "      <td>95.00</td>\n",
       "      <td>2011</td>\n",
       "      <td>red</td>\n",
       "      <td>Pomerol 2011 Château La Providence red</td>\n",
       "      <td>1</td>\n",
       "    </tr>\n",
       "    <tr>\n",
       "      <th>1</th>\n",
       "      <td>Lirac 2017</td>\n",
       "      <td>France</td>\n",
       "      <td>Lirac</td>\n",
       "      <td>Château Mont-Redon</td>\n",
       "      <td>4.3</td>\n",
       "      <td>100</td>\n",
       "      <td>15.50</td>\n",
       "      <td>2017</td>\n",
       "      <td>red</td>\n",
       "      <td>Lirac 2017 Château Mont-Redon red</td>\n",
       "      <td>2</td>\n",
       "    </tr>\n",
       "    <tr>\n",
       "      <th>2</th>\n",
       "      <td>Erta e China Rosso di Toscana 2015</td>\n",
       "      <td>Italy</td>\n",
       "      <td>Toscana</td>\n",
       "      <td>Renzo Masi</td>\n",
       "      <td>3.9</td>\n",
       "      <td>100</td>\n",
       "      <td>7.45</td>\n",
       "      <td>2015</td>\n",
       "      <td>red</td>\n",
       "      <td>Erta e China Rosso di Toscana 2015 Renzo Masi red</td>\n",
       "      <td>3</td>\n",
       "    </tr>\n",
       "    <tr>\n",
       "      <th>3</th>\n",
       "      <td>Bardolino 2019</td>\n",
       "      <td>Italy</td>\n",
       "      <td>Bardolino</td>\n",
       "      <td>Cavalchina</td>\n",
       "      <td>3.5</td>\n",
       "      <td>100</td>\n",
       "      <td>8.72</td>\n",
       "      <td>2019</td>\n",
       "      <td>red</td>\n",
       "      <td>Bardolino 2019 Cavalchina red</td>\n",
       "      <td>4</td>\n",
       "    </tr>\n",
       "    <tr>\n",
       "      <th>4</th>\n",
       "      <td>Ried Scheibner Pinot Noir 2016</td>\n",
       "      <td>Austria</td>\n",
       "      <td>Carnuntum</td>\n",
       "      <td>Markowitsch</td>\n",
       "      <td>3.9</td>\n",
       "      <td>100</td>\n",
       "      <td>29.15</td>\n",
       "      <td>2016</td>\n",
       "      <td>red</td>\n",
       "      <td>Ried Scheibner Pinot Noir 2016 Markowitsch red</td>\n",
       "      <td>5</td>\n",
       "    </tr>\n",
       "  </tbody>\n",
       "</table>\n",
       "</div>"
      ],
      "text/plain": [
       "                                 Name  Country     Region  \\\n",
       "0                        Pomerol 2011   France    Pomerol   \n",
       "1                          Lirac 2017   France      Lirac   \n",
       "2  Erta e China Rosso di Toscana 2015    Italy    Toscana   \n",
       "3                      Bardolino 2019    Italy  Bardolino   \n",
       "4      Ried Scheibner Pinot Noir 2016  Austria  Carnuntum   \n",
       "\n",
       "                  Winery  Rating  NumberOfRatings  Price  Year WineStyle  \\\n",
       "0  Château La Providence     4.2              100  95.00  2011       red   \n",
       "1     Château Mont-Redon     4.3              100  15.50  2017       red   \n",
       "2             Renzo Masi     3.9              100   7.45  2015       red   \n",
       "3             Cavalchina     3.5              100   8.72  2019       red   \n",
       "4            Markowitsch     3.9              100  29.15  2016       red   \n",
       "\n",
       "                                           Full_Name  ID  \n",
       "0             Pomerol 2011 Château La Providence red   1  \n",
       "1                  Lirac 2017 Château Mont-Redon red   2  \n",
       "2  Erta e China Rosso di Toscana 2015 Renzo Masi red   3  \n",
       "3                      Bardolino 2019 Cavalchina red   4  \n",
       "4     Ried Scheibner Pinot Noir 2016 Markowitsch red   5  "
      ]
     },
     "execution_count": 6,
     "metadata": {},
     "output_type": "execute_result"
    }
   ],
   "source": [
    "wines.head()"
   ]
  },
  {
   "cell_type": "markdown",
   "metadata": {},
   "source": [
    "###  FOR loop"
   ]
  },
  {
   "cell_type": "code",
   "execution_count": 7,
   "metadata": {},
   "outputs": [],
   "source": [
    "PATH = \"/Users/Angela/Desktop/chromedriver\""
   ]
  },
  {
   "cell_type": "code",
   "execution_count": 13,
   "metadata": {},
   "outputs": [],
   "source": [
    "# start\n",
    "driver = webdriver.Chrome(PATH)\n",
    "driver.set_window_size(1880, 900)"
   ]
  },
  {
   "cell_type": "markdown",
   "metadata": {},
   "source": [
    "#### Function to scroll down and get to the ``Reviews``section"
   ]
  },
  {
   "cell_type": "code",
   "execution_count": 14,
   "metadata": {},
   "outputs": [],
   "source": [
    "def scroll_review(driver):\n",
    "    try:\n",
    "        driver.execute_script(\"window.scroll(0, 1000);\")\n",
    "        driver.find_element_by_xpath('//*[@id=\"all_reviews\"]/h2')\n",
    "    except:\n",
    "        scroll_review(driver)"
   ]
  },
  {
   "cell_type": "markdown",
   "metadata": {},
   "source": [
    "#### First let's iterate through with the first 100 bottles"
   ]
  },
  {
   "cell_type": "code",
   "execution_count": 15,
   "metadata": {},
   "outputs": [],
   "source": [
    "intento = wines[:100]"
   ]
  },
  {
   "cell_type": "code",
   "execution_count": 16,
   "metadata": {},
   "outputs": [],
   "source": [
    "bottles = []"
   ]
  },
  {
   "cell_type": "code",
   "execution_count": null,
   "metadata": {},
   "outputs": [],
   "source": [
    "iteracion = 0\n",
    "\n",
    "for i in intento[\"Full_Name\"]:\n",
    "    iteracion += 1\n",
    "    \n",
    "    bottle_info = {}\n",
    "    bottle_info[\"ID\"] = intento[\"ID\"][iteracion]\n",
    "    \n",
    "    x = i.replace(\" \", \"+\").replace(\"â\",\"a\")\n",
    "    link_find = f\"https://www.vivino.com/search/wines?q={x}\"\n",
    "    driver.get(link_find)\n",
    "    \n",
    "    #time.sleep(3)\n",
    "    \n",
    "    WebDriverWait(driver=driver, timeout=5).until(\n",
    "    expected_conditions.presence_of_element_located((By.XPATH,\n",
    "        '/html/body/div[3]/section[1]/div/div/div/div[1]/div/div[1]/div/div[1]'\n",
    "               ))\n",
    "    )\n",
    "    \n",
    "    driver.execute_script(\"window.stop();\")\n",
    "    \n",
    "    try:\n",
    "        driver.find_element_by_xpath('/html/body/div[3]/section[1]/div/div/div/div[1]/div/div[1]/div/div[1]').click()\n",
    "        #time.sleep(3)\n",
    "        \n",
    "        WebDriverWait(driver=driver, timeout=3).until(\n",
    "            expected_conditions.presence_of_element_located((By.XPATH,\n",
    "                '//*[@id=\"wine-page-lower-section\"]/div/div[1]/div/div[2]/table/tbody/tr[2]/td'\n",
    "                   ))\n",
    "        )\n",
    "        \n",
    "        try:\n",
    "            bottle_info[\"rating\"] = driver.find_element_by_xpath('//*[@id=\"wine-location-header\"]/div[2]/div[1]/a/div/div[1]').text\n",
    "        except: \n",
    "            bottle_info[\"rating\"] = \"unknown\"\n",
    "        \n",
    "        scroll_review(driver)\n",
    "        \n",
    "        #time.sleep(5)\n",
    "        \n",
    "        WebDriverWait(driver=driver, timeout=5).until(\n",
    "            expected_conditions.presence_of_element_located((By.XPATH,\n",
    "                '//*[@id=\"all_reviews\"]/div[2]/div[1]/div[1]/div/div[1]/a/span[2]'\n",
    "                   ))\n",
    "        )\n",
    "        \n",
    "        try:\n",
    "            bottle_info[\"review\"] = driver.find_element_by_xpath('//*[@id=\"all_reviews\"]/div[2]/div[1]/div[1]/div/div[1]/a/span[2]').text\n",
    "        except:\n",
    "            bottle_info[\"review\"] = \"unknown\"\n",
    "        \n",
    "        bottles.append(bottle_info)\n",
    "    \n",
    "    except:\n",
    "        print(link_find)\n",
    "\n",
    "print(bottles)"
   ]
  },
  {
   "cell_type": "code",
   "execution_count": null,
   "metadata": {},
   "outputs": [],
   "source": [
    "bottles"
   ]
  },
  {
   "cell_type": "markdown",
   "metadata": {},
   "source": [
    "---"
   ]
  },
  {
   "cell_type": "markdown",
   "metadata": {},
   "source": [
    "## Appendix"
   ]
  },
  {
   "cell_type": "markdown",
   "metadata": {},
   "source": [
    "####  We want to extract the following the information to enrich the dataset:\n",
    "- Rating\n",
    "- Price\n",
    "- Facts x2\n",
    "- Grapes\n",
    "- Taste\n",
    "- Food\n",
    "- Reviews"
   ]
  },
  {
   "cell_type": "markdown",
   "metadata": {},
   "source": [
    "### Rating"
   ]
  },
  {
   "cell_type": "code",
   "execution_count": null,
   "metadata": {},
   "outputs": [],
   "source": [
    "rating = driver.find_element_by_xpath('//*[@id=\"wine-location-header\"]/div[2]/div[1]').text\n",
    "print({\"Rating\":rating})"
   ]
  },
  {
   "cell_type": "markdown",
   "metadata": {},
   "source": [
    "### Price"
   ]
  },
  {
   "cell_type": "code",
   "execution_count": null,
   "metadata": {},
   "outputs": [],
   "source": [
    "price = driver.find_element_by_xpath('//*[@id=\"purchase-availability\"]/div/div/div[1]/div[1]').text\n",
    "print({\"Price\":price})"
   ]
  },
  {
   "cell_type": "markdown",
   "metadata": {},
   "source": [
    "### Fact 1"
   ]
  },
  {
   "cell_type": "code",
   "execution_count": null,
   "metadata": {},
   "outputs": [],
   "source": [
    "fact1 = driver.find_element_by_xpath(\"/html/body/div[2]/div[5]/div/div/div[5]/div[1]/div\").text\n",
    "print({\"Fact 1\":fact1})"
   ]
  },
  {
   "cell_type": "markdown",
   "metadata": {},
   "source": [
    "### Fact 2"
   ]
  },
  {
   "cell_type": "code",
   "execution_count": null,
   "metadata": {},
   "outputs": [],
   "source": [
    "fact2 = driver.find_element_by_xpath(\"/html/body/div[2]/div[5]/div/div/div[5]/div[2]/div\").text\n",
    "print({\"Fact 2\":fact2})"
   ]
  },
  {
   "cell_type": "markdown",
   "metadata": {},
   "source": [
    "### Grapes"
   ]
  },
  {
   "cell_type": "code",
   "execution_count": null,
   "metadata": {},
   "outputs": [],
   "source": [
    "grapes = driver.find_element_by_xpath('//*[@id=\"wine-page-lower-section\"]/div/div[1]/div/div[2]/table/tbody/tr[2]/td').text\n",
    "print({\"Grapes\":grapes})"
   ]
  },
  {
   "cell_type": "markdown",
   "metadata": {},
   "source": [
    "### Taste attributes"
   ]
  },
  {
   "cell_type": "code",
   "execution_count": null,
   "metadata": {},
   "outputs": [],
   "source": [
    "att = driver.find_element_by_xpath('//*[@id=\"wine-page-lower-section\"]/div/div[1]/div/div[4]/div/div[2]/div[1]/table/tbody/tr[1]/td[2]/div/span').get_attribute(\"style\")\n",
    "att = att.split(\";\")\n",
    "att = att[1]\n",
    "print({\"Attributes\":att})"
   ]
  },
  {
   "cell_type": "markdown",
   "metadata": {},
   "source": [
    "### Taste description"
   ]
  },
  {
   "cell_type": "code",
   "execution_count": null,
   "metadata": {},
   "outputs": [],
   "source": [
    "taste_desc = driver.find_element_by_xpath('//*[@id=\"wine-page-lower-section\"]/div/div[1]/div/div[4]/div/a[1]/div[2]/div[1]').text\n",
    "print({\"Taste\":taste_desc})"
   ]
  },
  {
   "cell_type": "markdown",
   "metadata": {},
   "source": [
    "### Food"
   ]
  },
  {
   "cell_type": "code",
   "execution_count": null,
   "metadata": {},
   "outputs": [],
   "source": [
    "food = driver.find_element_by_xpath('//*[@id=\"wine-page-lower-section\"]/div/div[1]/div/div[6]/div/div[2]/div').text\n",
    "\n",
    "print({\"Food\":food})"
   ]
  },
  {
   "cell_type": "markdown",
   "metadata": {},
   "source": [
    "### Review"
   ]
  },
  {
   "cell_type": "code",
   "execution_count": null,
   "metadata": {},
   "outputs": [],
   "source": [
    "review = driver.find_element_by_xpath('//*[@id=\"all_reviews\"]/div[3]/div[1]/div[1]/div[1]/div[1]/a/span[3]').text\n",
    "print({\"Review\":review})"
   ]
  },
  {
   "cell_type": "markdown",
   "metadata": {},
   "source": [
    "### NOTE:\n",
    "Due to lack of resources and time, this idea for my final project hasn't been possible to execute. The kernel would \"die\" when I tried to iterate through the dataset due to the high amount of data, and because Vivino temporarily blocked my IP Address for trying to extract so much information. Having said this, this idea remains pending for the future."
   ]
  },
  {
   "cell_type": "code",
   "execution_count": null,
   "metadata": {},
   "outputs": [],
   "source": []
  }
 ],
 "metadata": {
  "kernelspec": {
   "display_name": "Python 3",
   "language": "python",
   "name": "python3"
  },
  "language_info": {
   "codemirror_mode": {
    "name": "ipython",
    "version": 3
   },
   "file_extension": ".py",
   "mimetype": "text/x-python",
   "name": "python",
   "nbconvert_exporter": "python",
   "pygments_lexer": "ipython3",
   "version": "3.8.5"
  }
 },
 "nbformat": 4,
 "nbformat_minor": 4
}
