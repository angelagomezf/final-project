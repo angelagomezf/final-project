{
 "cells": [
  {
   "cell_type": "markdown",
   "metadata": {},
   "source": [
    "# Categorizing Vivino's Rating under Sommerlier's opinion"
   ]
  },
  {
   "cell_type": "code",
   "execution_count": 83,
   "metadata": {},
   "outputs": [],
   "source": [
    "import pandas as pd\n",
    "import numpy as np\n",
    "\n",
    "import matplotlib. pyplot as plt\n",
    "import seaborn as sns"
   ]
  },
  {
   "cell_type": "code",
   "execution_count": 4,
   "metadata": {},
   "outputs": [],
   "source": [
    "wines = pd.read_csv(\"../data/wines_clean.csv\")"
   ]
  },
  {
   "cell_type": "code",
   "execution_count": 5,
   "metadata": {},
   "outputs": [],
   "source": [
    "wines.drop(\"Unnamed: 0\", axis=1, inplace=True)"
   ]
  },
  {
   "cell_type": "code",
   "execution_count": 6,
   "metadata": {},
   "outputs": [
    {
     "data": {
      "text/html": [
       "<div>\n",
       "<style scoped>\n",
       "    .dataframe tbody tr th:only-of-type {\n",
       "        vertical-align: middle;\n",
       "    }\n",
       "\n",
       "    .dataframe tbody tr th {\n",
       "        vertical-align: top;\n",
       "    }\n",
       "\n",
       "    .dataframe thead th {\n",
       "        text-align: right;\n",
       "    }\n",
       "</style>\n",
       "<table border=\"1\" class=\"dataframe\">\n",
       "  <thead>\n",
       "    <tr style=\"text-align: right;\">\n",
       "      <th></th>\n",
       "      <th>Name</th>\n",
       "      <th>Country</th>\n",
       "      <th>Region</th>\n",
       "      <th>Winery</th>\n",
       "      <th>Rating</th>\n",
       "      <th>NumberOfRatings</th>\n",
       "      <th>Price</th>\n",
       "      <th>Year</th>\n",
       "      <th>WineStyle</th>\n",
       "      <th>Full_Name</th>\n",
       "    </tr>\n",
       "  </thead>\n",
       "  <tbody>\n",
       "    <tr>\n",
       "      <th>0</th>\n",
       "      <td>Pomerol 2011</td>\n",
       "      <td>France</td>\n",
       "      <td>Pomerol</td>\n",
       "      <td>Château La Providence</td>\n",
       "      <td>4.2</td>\n",
       "      <td>100</td>\n",
       "      <td>95.00</td>\n",
       "      <td>2011</td>\n",
       "      <td>red</td>\n",
       "      <td>Pomerol 2011 Château La Providence red</td>\n",
       "    </tr>\n",
       "    <tr>\n",
       "      <th>1</th>\n",
       "      <td>Lirac 2017</td>\n",
       "      <td>France</td>\n",
       "      <td>Lirac</td>\n",
       "      <td>Château Mont-Redon</td>\n",
       "      <td>4.3</td>\n",
       "      <td>100</td>\n",
       "      <td>15.50</td>\n",
       "      <td>2017</td>\n",
       "      <td>red</td>\n",
       "      <td>Lirac 2017 Château Mont-Redon red</td>\n",
       "    </tr>\n",
       "    <tr>\n",
       "      <th>2</th>\n",
       "      <td>Erta e China Rosso di Toscana 2015</td>\n",
       "      <td>Italy</td>\n",
       "      <td>Toscana</td>\n",
       "      <td>Renzo Masi</td>\n",
       "      <td>3.9</td>\n",
       "      <td>100</td>\n",
       "      <td>7.45</td>\n",
       "      <td>2015</td>\n",
       "      <td>red</td>\n",
       "      <td>Erta e China Rosso di Toscana 2015 Renzo Masi red</td>\n",
       "    </tr>\n",
       "    <tr>\n",
       "      <th>3</th>\n",
       "      <td>Bardolino 2019</td>\n",
       "      <td>Italy</td>\n",
       "      <td>Bardolino</td>\n",
       "      <td>Cavalchina</td>\n",
       "      <td>3.5</td>\n",
       "      <td>100</td>\n",
       "      <td>8.72</td>\n",
       "      <td>2019</td>\n",
       "      <td>red</td>\n",
       "      <td>Bardolino 2019 Cavalchina red</td>\n",
       "    </tr>\n",
       "    <tr>\n",
       "      <th>4</th>\n",
       "      <td>Ried Scheibner Pinot Noir 2016</td>\n",
       "      <td>Austria</td>\n",
       "      <td>Carnuntum</td>\n",
       "      <td>Markowitsch</td>\n",
       "      <td>3.9</td>\n",
       "      <td>100</td>\n",
       "      <td>29.15</td>\n",
       "      <td>2016</td>\n",
       "      <td>red</td>\n",
       "      <td>Ried Scheibner Pinot Noir 2016 Markowitsch red</td>\n",
       "    </tr>\n",
       "  </tbody>\n",
       "</table>\n",
       "</div>"
      ],
      "text/plain": [
       "                                 Name  Country     Region  \\\n",
       "0                        Pomerol 2011   France    Pomerol   \n",
       "1                          Lirac 2017   France      Lirac   \n",
       "2  Erta e China Rosso di Toscana 2015    Italy    Toscana   \n",
       "3                      Bardolino 2019    Italy  Bardolino   \n",
       "4      Ried Scheibner Pinot Noir 2016  Austria  Carnuntum   \n",
       "\n",
       "                  Winery  Rating  NumberOfRatings  Price  Year WineStyle  \\\n",
       "0  Château La Providence     4.2              100  95.00  2011       red   \n",
       "1     Château Mont-Redon     4.3              100  15.50  2017       red   \n",
       "2             Renzo Masi     3.9              100   7.45  2015       red   \n",
       "3             Cavalchina     3.5              100   8.72  2019       red   \n",
       "4            Markowitsch     3.9              100  29.15  2016       red   \n",
       "\n",
       "                                           Full_Name  \n",
       "0             Pomerol 2011 Château La Providence red  \n",
       "1                  Lirac 2017 Château Mont-Redon red  \n",
       "2  Erta e China Rosso di Toscana 2015 Renzo Masi red  \n",
       "3                      Bardolino 2019 Cavalchina red  \n",
       "4     Ried Scheibner Pinot Noir 2016 Markowitsch red  "
      ]
     },
     "execution_count": 6,
     "metadata": {},
     "output_type": "execute_result"
    }
   ],
   "source": [
    "wines.head()"
   ]
  },
  {
   "cell_type": "markdown",
   "metadata": {},
   "source": [
    "### Let's compare Vivino's Rating with a renowned Sommelier's opinion: Robert Parker\n",
    "https://www.meejana.co.uk/wine-rating-robert-parker-vs-vivino/"
   ]
  },
  {
   "cell_type": "markdown",
   "metadata": {},
   "source": [
    "#### This is how Robert Parker classifies Vivino's rating:"
   ]
  },
  {
   "cell_type": "markdown",
   "metadata": {},
   "source": [
    "![title](../images/robert_parker.png)"
   ]
  },
  {
   "cell_type": "markdown",
   "metadata": {},
   "source": [
    "#### Function that categorizes according to Robert Parker's criteria"
   ]
  },
  {
   "cell_type": "code",
   "execution_count": 7,
   "metadata": {},
   "outputs": [],
   "source": [
    "def categorySomm(rating):\n",
    "    if 4.9 <= rating:\n",
    "        return \"Extraordinary\"\n",
    "    if (3.9 <= rating) & (rating <= 4.8):\n",
    "        return \"Outstanding\"\n",
    "    if (3.0 <= rating) & (rating <= 3.8):\n",
    "        return \"Above Average to Very Good\"\n",
    "    if (2.0 <= rating) & (rating <= 2.9):\n",
    "        return \"Average\"\n",
    "    if (1.0 <= rating) & (rating <= 1.9):\n",
    "        return \"Below Average\"\n",
    "    if (0.0 <= rating) & (rating <= 0.9):\n",
    "        return \"Unacceptable\"\n",
    "    return \"other\""
   ]
  },
  {
   "cell_type": "code",
   "execution_count": 8,
   "metadata": {},
   "outputs": [],
   "source": [
    "wines[\"Rating_Somm\"] = wines[\"Rating\"].apply(categorySomm)"
   ]
  },
  {
   "cell_type": "code",
   "execution_count": 9,
   "metadata": {},
   "outputs": [
    {
     "data": {
      "text/html": [
       "<div>\n",
       "<style scoped>\n",
       "    .dataframe tbody tr th:only-of-type {\n",
       "        vertical-align: middle;\n",
       "    }\n",
       "\n",
       "    .dataframe tbody tr th {\n",
       "        vertical-align: top;\n",
       "    }\n",
       "\n",
       "    .dataframe thead th {\n",
       "        text-align: right;\n",
       "    }\n",
       "</style>\n",
       "<table border=\"1\" class=\"dataframe\">\n",
       "  <thead>\n",
       "    <tr style=\"text-align: right;\">\n",
       "      <th></th>\n",
       "      <th>Name</th>\n",
       "      <th>Country</th>\n",
       "      <th>Region</th>\n",
       "      <th>Winery</th>\n",
       "      <th>Rating</th>\n",
       "      <th>NumberOfRatings</th>\n",
       "      <th>Price</th>\n",
       "      <th>Year</th>\n",
       "      <th>WineStyle</th>\n",
       "      <th>Full_Name</th>\n",
       "      <th>Rating_Somm</th>\n",
       "    </tr>\n",
       "  </thead>\n",
       "  <tbody>\n",
       "    <tr>\n",
       "      <th>0</th>\n",
       "      <td>Pomerol 2011</td>\n",
       "      <td>France</td>\n",
       "      <td>Pomerol</td>\n",
       "      <td>Château La Providence</td>\n",
       "      <td>4.2</td>\n",
       "      <td>100</td>\n",
       "      <td>95.00</td>\n",
       "      <td>2011</td>\n",
       "      <td>red</td>\n",
       "      <td>Pomerol 2011 Château La Providence red</td>\n",
       "      <td>Outstanding</td>\n",
       "    </tr>\n",
       "    <tr>\n",
       "      <th>1</th>\n",
       "      <td>Lirac 2017</td>\n",
       "      <td>France</td>\n",
       "      <td>Lirac</td>\n",
       "      <td>Château Mont-Redon</td>\n",
       "      <td>4.3</td>\n",
       "      <td>100</td>\n",
       "      <td>15.50</td>\n",
       "      <td>2017</td>\n",
       "      <td>red</td>\n",
       "      <td>Lirac 2017 Château Mont-Redon red</td>\n",
       "      <td>Outstanding</td>\n",
       "    </tr>\n",
       "    <tr>\n",
       "      <th>2</th>\n",
       "      <td>Erta e China Rosso di Toscana 2015</td>\n",
       "      <td>Italy</td>\n",
       "      <td>Toscana</td>\n",
       "      <td>Renzo Masi</td>\n",
       "      <td>3.9</td>\n",
       "      <td>100</td>\n",
       "      <td>7.45</td>\n",
       "      <td>2015</td>\n",
       "      <td>red</td>\n",
       "      <td>Erta e China Rosso di Toscana 2015 Renzo Masi red</td>\n",
       "      <td>Outstanding</td>\n",
       "    </tr>\n",
       "    <tr>\n",
       "      <th>3</th>\n",
       "      <td>Bardolino 2019</td>\n",
       "      <td>Italy</td>\n",
       "      <td>Bardolino</td>\n",
       "      <td>Cavalchina</td>\n",
       "      <td>3.5</td>\n",
       "      <td>100</td>\n",
       "      <td>8.72</td>\n",
       "      <td>2019</td>\n",
       "      <td>red</td>\n",
       "      <td>Bardolino 2019 Cavalchina red</td>\n",
       "      <td>Above Average to Very Good</td>\n",
       "    </tr>\n",
       "    <tr>\n",
       "      <th>4</th>\n",
       "      <td>Ried Scheibner Pinot Noir 2016</td>\n",
       "      <td>Austria</td>\n",
       "      <td>Carnuntum</td>\n",
       "      <td>Markowitsch</td>\n",
       "      <td>3.9</td>\n",
       "      <td>100</td>\n",
       "      <td>29.15</td>\n",
       "      <td>2016</td>\n",
       "      <td>red</td>\n",
       "      <td>Ried Scheibner Pinot Noir 2016 Markowitsch red</td>\n",
       "      <td>Outstanding</td>\n",
       "    </tr>\n",
       "    <tr>\n",
       "      <th>...</th>\n",
       "      <td>...</td>\n",
       "      <td>...</td>\n",
       "      <td>...</td>\n",
       "      <td>...</td>\n",
       "      <td>...</td>\n",
       "      <td>...</td>\n",
       "      <td>...</td>\n",
       "      <td>...</td>\n",
       "      <td>...</td>\n",
       "      <td>...</td>\n",
       "      <td>...</td>\n",
       "    </tr>\n",
       "    <tr>\n",
       "      <th>13829</th>\n",
       "      <td>Côte des Roses Rosé 2019</td>\n",
       "      <td>France</td>\n",
       "      <td>Languedoc</td>\n",
       "      <td>Gérard Bertrand</td>\n",
       "      <td>3.9</td>\n",
       "      <td>1750</td>\n",
       "      <td>9.36</td>\n",
       "      <td>2019</td>\n",
       "      <td>rose</td>\n",
       "      <td>Côte des Roses Rosé 2019 Gérard Bertrand rose</td>\n",
       "      <td>Outstanding</td>\n",
       "    </tr>\n",
       "    <tr>\n",
       "      <th>13830</th>\n",
       "      <td>M Rosé 2019</td>\n",
       "      <td>France</td>\n",
       "      <td>Côtes de Provence</td>\n",
       "      <td>Minuty</td>\n",
       "      <td>4.0</td>\n",
       "      <td>2046</td>\n",
       "      <td>12.85</td>\n",
       "      <td>2019</td>\n",
       "      <td>rose</td>\n",
       "      <td>M Rosé 2019 Minuty rose</td>\n",
       "      <td>Outstanding</td>\n",
       "    </tr>\n",
       "    <tr>\n",
       "      <th>13831</th>\n",
       "      <td>Whispering Angel Rosé 2019</td>\n",
       "      <td>France</td>\n",
       "      <td>Côtes de Provence</td>\n",
       "      <td>Château d'Esclans</td>\n",
       "      <td>4.2</td>\n",
       "      <td>2990</td>\n",
       "      <td>16.47</td>\n",
       "      <td>2019</td>\n",
       "      <td>rose</td>\n",
       "      <td>Whispering Angel Rosé 2019 Château d'Esclans rose</td>\n",
       "      <td>Outstanding</td>\n",
       "    </tr>\n",
       "    <tr>\n",
       "      <th>13832</th>\n",
       "      <td>Vinho Verde Rosé N.V.</td>\n",
       "      <td>Portugal</td>\n",
       "      <td>Vinho Verde</td>\n",
       "      <td>Casal Garcia</td>\n",
       "      <td>3.5</td>\n",
       "      <td>9493</td>\n",
       "      <td>4.35</td>\n",
       "      <td>2050</td>\n",
       "      <td>rose</td>\n",
       "      <td>Vinho Verde Rosé N.V. Casal Garcia rose</td>\n",
       "      <td>Above Average to Very Good</td>\n",
       "    </tr>\n",
       "    <tr>\n",
       "      <th>13833</th>\n",
       "      <td>The Original Rosé N.V.</td>\n",
       "      <td>Portugal</td>\n",
       "      <td>Douro</td>\n",
       "      <td>Mateus</td>\n",
       "      <td>3.6</td>\n",
       "      <td>29531</td>\n",
       "      <td>5.99</td>\n",
       "      <td>2050</td>\n",
       "      <td>rose</td>\n",
       "      <td>The Original Rosé N.V. Mateus rose</td>\n",
       "      <td>Above Average to Very Good</td>\n",
       "    </tr>\n",
       "  </tbody>\n",
       "</table>\n",
       "<p>13834 rows × 11 columns</p>\n",
       "</div>"
      ],
      "text/plain": [
       "                                     Name   Country             Region  \\\n",
       "0                            Pomerol 2011    France            Pomerol   \n",
       "1                              Lirac 2017    France              Lirac   \n",
       "2      Erta e China Rosso di Toscana 2015     Italy            Toscana   \n",
       "3                          Bardolino 2019     Italy          Bardolino   \n",
       "4          Ried Scheibner Pinot Noir 2016   Austria          Carnuntum   \n",
       "...                                   ...       ...                ...   \n",
       "13829            Côte des Roses Rosé 2019    France          Languedoc   \n",
       "13830                         M Rosé 2019    France  Côtes de Provence   \n",
       "13831          Whispering Angel Rosé 2019    France  Côtes de Provence   \n",
       "13832               Vinho Verde Rosé N.V.  Portugal        Vinho Verde   \n",
       "13833              The Original Rosé N.V.  Portugal              Douro   \n",
       "\n",
       "                      Winery  Rating  NumberOfRatings  Price  Year WineStyle  \\\n",
       "0      Château La Providence     4.2              100  95.00  2011       red   \n",
       "1         Château Mont-Redon     4.3              100  15.50  2017       red   \n",
       "2                 Renzo Masi     3.9              100   7.45  2015       red   \n",
       "3                 Cavalchina     3.5              100   8.72  2019       red   \n",
       "4                Markowitsch     3.9              100  29.15  2016       red   \n",
       "...                      ...     ...              ...    ...   ...       ...   \n",
       "13829        Gérard Bertrand     3.9             1750   9.36  2019      rose   \n",
       "13830                 Minuty     4.0             2046  12.85  2019      rose   \n",
       "13831      Château d'Esclans     4.2             2990  16.47  2019      rose   \n",
       "13832           Casal Garcia     3.5             9493   4.35  2050      rose   \n",
       "13833                 Mateus     3.6            29531   5.99  2050      rose   \n",
       "\n",
       "                                               Full_Name  \\\n",
       "0                 Pomerol 2011 Château La Providence red   \n",
       "1                      Lirac 2017 Château Mont-Redon red   \n",
       "2      Erta e China Rosso di Toscana 2015 Renzo Masi red   \n",
       "3                          Bardolino 2019 Cavalchina red   \n",
       "4         Ried Scheibner Pinot Noir 2016 Markowitsch red   \n",
       "...                                                  ...   \n",
       "13829      Côte des Roses Rosé 2019 Gérard Bertrand rose   \n",
       "13830                            M Rosé 2019 Minuty rose   \n",
       "13831  Whispering Angel Rosé 2019 Château d'Esclans rose   \n",
       "13832            Vinho Verde Rosé N.V. Casal Garcia rose   \n",
       "13833                 The Original Rosé N.V. Mateus rose   \n",
       "\n",
       "                      Rating_Somm  \n",
       "0                     Outstanding  \n",
       "1                     Outstanding  \n",
       "2                     Outstanding  \n",
       "3      Above Average to Very Good  \n",
       "4                     Outstanding  \n",
       "...                           ...  \n",
       "13829                 Outstanding  \n",
       "13830                 Outstanding  \n",
       "13831                 Outstanding  \n",
       "13832  Above Average to Very Good  \n",
       "13833  Above Average to Very Good  \n",
       "\n",
       "[13834 rows x 11 columns]"
      ]
     },
     "execution_count": 9,
     "metadata": {},
     "output_type": "execute_result"
    }
   ],
   "source": [
    "wines"
   ]
  },
  {
   "cell_type": "code",
   "execution_count": 10,
   "metadata": {},
   "outputs": [
    {
     "data": {
      "text/plain": [
       "Rioja                               385\n",
       "Stellenbosch                        337\n",
       "Pfalz                               331\n",
       "Toscana                             307\n",
       "Champagne                           263\n",
       "                                   ... \n",
       "Ahrweiler                             1\n",
       "Côtes-du-Rhône-Villages 'Visan'       1\n",
       "Alella                                1\n",
       "Chablis 1er Cru 'Côte de Lechet'      1\n",
       "Côtes du Brian                        1\n",
       "Name: Region, Length: 861, dtype: int64"
      ]
     },
     "execution_count": 10,
     "metadata": {},
     "output_type": "execute_result"
    }
   ],
   "source": [
    "wines[\"Region\"].value_counts()"
   ]
  },
  {
   "cell_type": "code",
   "execution_count": 11,
   "metadata": {},
   "outputs": [
    {
     "data": {
      "text/plain": [
       "Outstanding                   6938\n",
       "Above Average to Very Good    6871\n",
       "Average                         24\n",
       "Extraordinary                    1\n",
       "Name: Rating_Somm, dtype: int64"
      ]
     },
     "execution_count": 11,
     "metadata": {},
     "output_type": "execute_result"
    }
   ],
   "source": [
    "somm_count = wines[\"Rating_Somm\"].value_counts()\n",
    "somm_count"
   ]
  },
  {
   "cell_type": "code",
   "execution_count": 44,
   "metadata": {},
   "outputs": [
    {
     "data": {
      "text/plain": [
       "3458.5"
      ]
     },
     "execution_count": 44,
     "metadata": {},
     "output_type": "execute_result"
    }
   ],
   "source": [
    "wines[\"Rating_Somm\"].value_counts().mean()"
   ]
  },
  {
   "cell_type": "markdown",
   "metadata": {},
   "source": [
    "### Exporting"
   ]
  },
  {
   "cell_type": "code",
   "execution_count": 197,
   "metadata": {},
   "outputs": [],
   "source": [
    "wines.to_csv(\"../data/wines_somm.csv\")"
   ]
  },
  {
   "cell_type": "markdown",
   "metadata": {},
   "source": [
    "# Training"
   ]
  },
  {
   "cell_type": "markdown",
   "metadata": {},
   "source": [
    "### Importing libraries"
   ]
  },
  {
   "cell_type": "code",
   "execution_count": 189,
   "metadata": {},
   "outputs": [],
   "source": [
    "from sklearn.model_selection import train_test_split\n",
    "\n",
    "from sklearn.linear_model import LinearRegression\n",
    "from sklearn.metrics import mean_squared_error, r2_score\n",
    "from sklearn.metrics import accuracy_score, precision_score, recall_score, f1_score\n",
    "\n",
    "from sklearn.neighbors import KNeighborsRegressor\n",
    "\n",
    "from sklearn.ensemble import RandomForestRegressor\n",
    "from sklearn.metrics import mean_absolute_error, make_scorer\n",
    "\n",
    "from sklearn.model_selection import GridSearchCV\n",
    "from sklearn.model_selection import RandomizedSearchCV\n",
    "\n",
    "from sklearn.preprocessing import StandardScaler\n",
    "\n",
    "import sklearn\n",
    "from sklearn.model_selection import cross_val_score"
   ]
  },
  {
   "cell_type": "markdown",
   "metadata": {},
   "source": [
    "### Creating dataframe to train"
   ]
  },
  {
   "cell_type": "code",
   "execution_count": 61,
   "metadata": {},
   "outputs": [],
   "source": [
    "train = wines[[\"Country\", \"Price\", \"Year\", \"WineStyle\", \"Rating\"]]"
   ]
  },
  {
   "cell_type": "code",
   "execution_count": 62,
   "metadata": {},
   "outputs": [
    {
     "data": {
      "text/html": [
       "<div>\n",
       "<style scoped>\n",
       "    .dataframe tbody tr th:only-of-type {\n",
       "        vertical-align: middle;\n",
       "    }\n",
       "\n",
       "    .dataframe tbody tr th {\n",
       "        vertical-align: top;\n",
       "    }\n",
       "\n",
       "    .dataframe thead th {\n",
       "        text-align: right;\n",
       "    }\n",
       "</style>\n",
       "<table border=\"1\" class=\"dataframe\">\n",
       "  <thead>\n",
       "    <tr style=\"text-align: right;\">\n",
       "      <th></th>\n",
       "      <th>Country</th>\n",
       "      <th>Price</th>\n",
       "      <th>Year</th>\n",
       "      <th>WineStyle</th>\n",
       "      <th>Rating</th>\n",
       "    </tr>\n",
       "  </thead>\n",
       "  <tbody>\n",
       "    <tr>\n",
       "      <th>0</th>\n",
       "      <td>France</td>\n",
       "      <td>95.00</td>\n",
       "      <td>2011</td>\n",
       "      <td>red</td>\n",
       "      <td>4.2</td>\n",
       "    </tr>\n",
       "    <tr>\n",
       "      <th>1</th>\n",
       "      <td>France</td>\n",
       "      <td>15.50</td>\n",
       "      <td>2017</td>\n",
       "      <td>red</td>\n",
       "      <td>4.3</td>\n",
       "    </tr>\n",
       "    <tr>\n",
       "      <th>2</th>\n",
       "      <td>Italy</td>\n",
       "      <td>7.45</td>\n",
       "      <td>2015</td>\n",
       "      <td>red</td>\n",
       "      <td>3.9</td>\n",
       "    </tr>\n",
       "    <tr>\n",
       "      <th>3</th>\n",
       "      <td>Italy</td>\n",
       "      <td>8.72</td>\n",
       "      <td>2019</td>\n",
       "      <td>red</td>\n",
       "      <td>3.5</td>\n",
       "    </tr>\n",
       "    <tr>\n",
       "      <th>4</th>\n",
       "      <td>Austria</td>\n",
       "      <td>29.15</td>\n",
       "      <td>2016</td>\n",
       "      <td>red</td>\n",
       "      <td>3.9</td>\n",
       "    </tr>\n",
       "  </tbody>\n",
       "</table>\n",
       "</div>"
      ],
      "text/plain": [
       "   Country  Price  Year WineStyle  Rating\n",
       "0   France  95.00  2011       red     4.2\n",
       "1   France  15.50  2017       red     4.3\n",
       "2    Italy   7.45  2015       red     3.9\n",
       "3    Italy   8.72  2019       red     3.5\n",
       "4  Austria  29.15  2016       red     3.9"
      ]
     },
     "execution_count": 62,
     "metadata": {},
     "output_type": "execute_result"
    }
   ],
   "source": [
    "train.head()"
   ]
  },
  {
   "cell_type": "code",
   "execution_count": 63,
   "metadata": {},
   "outputs": [
    {
     "data": {
      "text/plain": [
       "Country       object\n",
       "Price        float64\n",
       "Year           int64\n",
       "WineStyle     object\n",
       "Rating       float64\n",
       "dtype: object"
      ]
     },
     "execution_count": 63,
     "metadata": {},
     "output_type": "execute_result"
    }
   ],
   "source": [
    "train.dtypes"
   ]
  },
  {
   "cell_type": "markdown",
   "metadata": {},
   "source": [
    "### Converting ``WineStyle``"
   ]
  },
  {
   "cell_type": "code",
   "execution_count": 64,
   "metadata": {},
   "outputs": [
    {
     "data": {
      "text/plain": [
       "array(['red', 'white', 'sparkling', 'rose'], dtype=object)"
      ]
     },
     "execution_count": 64,
     "metadata": {},
     "output_type": "execute_result"
    }
   ],
   "source": [
    "train[\"WineStyle\"].unique()"
   ]
  },
  {
   "cell_type": "code",
   "execution_count": 65,
   "metadata": {},
   "outputs": [
    {
     "data": {
      "text/plain": [
       "red          8666\n",
       "white        3764\n",
       "sparkling    1007\n",
       "rose          397\n",
       "Name: WineStyle, dtype: int64"
      ]
     },
     "execution_count": 65,
     "metadata": {},
     "output_type": "execute_result"
    }
   ],
   "source": [
    "train[\"WineStyle\"].value_counts()"
   ]
  },
  {
   "cell_type": "code",
   "execution_count": 66,
   "metadata": {},
   "outputs": [],
   "source": [
    "style = {\"red\":1, \"white\":2, \"sparkling\":3, \"rose\":4}"
   ]
  },
  {
   "cell_type": "code",
   "execution_count": 67,
   "metadata": {},
   "outputs": [
    {
     "name": "stderr",
     "output_type": "stream",
     "text": [
      "<ipython-input-67-61ac1fd2a11d>:1: SettingWithCopyWarning: \n",
      "A value is trying to be set on a copy of a slice from a DataFrame.\n",
      "Try using .loc[row_indexer,col_indexer] = value instead\n",
      "\n",
      "See the caveats in the documentation: https://pandas.pydata.org/pandas-docs/stable/user_guide/indexing.html#returning-a-view-versus-a-copy\n",
      "  train[\"WineStyle\"] = train[\"WineStyle\"].map(style)\n"
     ]
    }
   ],
   "source": [
    "train[\"WineStyle\"] = train[\"WineStyle\"].map(style)"
   ]
  },
  {
   "cell_type": "code",
   "execution_count": 68,
   "metadata": {},
   "outputs": [
    {
     "data": {
      "text/plain": [
       "array([1, 2, 3, 4])"
      ]
     },
     "execution_count": 68,
     "metadata": {},
     "output_type": "execute_result"
    }
   ],
   "source": [
    "train[\"WineStyle\"].unique()"
   ]
  },
  {
   "cell_type": "code",
   "execution_count": 69,
   "metadata": {},
   "outputs": [
    {
     "data": {
      "text/plain": [
       "1    8666\n",
       "2    3764\n",
       "3    1007\n",
       "4     397\n",
       "Name: WineStyle, dtype: int64"
      ]
     },
     "execution_count": 69,
     "metadata": {},
     "output_type": "execute_result"
    }
   ],
   "source": [
    "train[\"WineStyle\"].value_counts()"
   ]
  },
  {
   "cell_type": "code",
   "execution_count": 70,
   "metadata": {},
   "outputs": [
    {
     "data": {
      "text/plain": [
       "Country       object\n",
       "Price        float64\n",
       "Year           int64\n",
       "WineStyle      int64\n",
       "Rating       float64\n",
       "dtype: object"
      ]
     },
     "execution_count": 70,
     "metadata": {},
     "output_type": "execute_result"
    }
   ],
   "source": [
    "train.dtypes"
   ]
  },
  {
   "cell_type": "markdown",
   "metadata": {},
   "source": [
    "### Converting ``Country``"
   ]
  },
  {
   "cell_type": "code",
   "execution_count": 71,
   "metadata": {},
   "outputs": [
    {
     "data": {
      "text/plain": [
       "array(['France', 'Italy', 'Austria', 'New Zealand', 'Chile', 'Australia',\n",
       "       'South Africa', 'Spain', 'United States', 'Portugal', 'Hungary',\n",
       "       'Brazil', 'Argentina', 'Romania', 'Germany', 'Greece', 'Mexico',\n",
       "       'Moldova', 'Switzerland', 'Slovenia', 'Israel', 'Georgia',\n",
       "       'Lebanon', 'Uruguay', 'Turkey', 'Croatia', 'China', 'Slovakia',\n",
       "       'Bulgaria', 'Canada', 'Luxembourg', 'Czech Republic',\n",
       "       'United Kingdom'], dtype=object)"
      ]
     },
     "execution_count": 71,
     "metadata": {},
     "output_type": "execute_result"
    }
   ],
   "source": [
    "country_unique = train[\"Country\"].unique()\n",
    "country_unique"
   ]
  },
  {
   "cell_type": "code",
   "execution_count": 72,
   "metadata": {},
   "outputs": [
    {
     "data": {
      "text/plain": [
       "33"
      ]
     },
     "execution_count": 72,
     "metadata": {},
     "output_type": "execute_result"
    }
   ],
   "source": [
    "len(country_unique)"
   ]
  },
  {
   "cell_type": "code",
   "execution_count": 177,
   "metadata": {},
   "outputs": [],
   "source": [
    "train_dummy = pd.get_dummies(train)"
   ]
  },
  {
   "cell_type": "code",
   "execution_count": 74,
   "metadata": {},
   "outputs": [
    {
     "data": {
      "text/html": [
       "<div>\n",
       "<style scoped>\n",
       "    .dataframe tbody tr th:only-of-type {\n",
       "        vertical-align: middle;\n",
       "    }\n",
       "\n",
       "    .dataframe tbody tr th {\n",
       "        vertical-align: top;\n",
       "    }\n",
       "\n",
       "    .dataframe thead th {\n",
       "        text-align: right;\n",
       "    }\n",
       "</style>\n",
       "<table border=\"1\" class=\"dataframe\">\n",
       "  <thead>\n",
       "    <tr style=\"text-align: right;\">\n",
       "      <th></th>\n",
       "      <th>Price</th>\n",
       "      <th>Year</th>\n",
       "      <th>WineStyle</th>\n",
       "      <th>Rating</th>\n",
       "      <th>Country_Argentina</th>\n",
       "      <th>Country_Australia</th>\n",
       "      <th>Country_Austria</th>\n",
       "      <th>Country_Brazil</th>\n",
       "      <th>Country_Bulgaria</th>\n",
       "      <th>Country_Canada</th>\n",
       "      <th>...</th>\n",
       "      <th>Country_Romania</th>\n",
       "      <th>Country_Slovakia</th>\n",
       "      <th>Country_Slovenia</th>\n",
       "      <th>Country_South Africa</th>\n",
       "      <th>Country_Spain</th>\n",
       "      <th>Country_Switzerland</th>\n",
       "      <th>Country_Turkey</th>\n",
       "      <th>Country_United Kingdom</th>\n",
       "      <th>Country_United States</th>\n",
       "      <th>Country_Uruguay</th>\n",
       "    </tr>\n",
       "  </thead>\n",
       "  <tbody>\n",
       "    <tr>\n",
       "      <th>0</th>\n",
       "      <td>95.00</td>\n",
       "      <td>2011</td>\n",
       "      <td>1</td>\n",
       "      <td>4.2</td>\n",
       "      <td>0</td>\n",
       "      <td>0</td>\n",
       "      <td>0</td>\n",
       "      <td>0</td>\n",
       "      <td>0</td>\n",
       "      <td>0</td>\n",
       "      <td>...</td>\n",
       "      <td>0</td>\n",
       "      <td>0</td>\n",
       "      <td>0</td>\n",
       "      <td>0</td>\n",
       "      <td>0</td>\n",
       "      <td>0</td>\n",
       "      <td>0</td>\n",
       "      <td>0</td>\n",
       "      <td>0</td>\n",
       "      <td>0</td>\n",
       "    </tr>\n",
       "    <tr>\n",
       "      <th>1</th>\n",
       "      <td>15.50</td>\n",
       "      <td>2017</td>\n",
       "      <td>1</td>\n",
       "      <td>4.3</td>\n",
       "      <td>0</td>\n",
       "      <td>0</td>\n",
       "      <td>0</td>\n",
       "      <td>0</td>\n",
       "      <td>0</td>\n",
       "      <td>0</td>\n",
       "      <td>...</td>\n",
       "      <td>0</td>\n",
       "      <td>0</td>\n",
       "      <td>0</td>\n",
       "      <td>0</td>\n",
       "      <td>0</td>\n",
       "      <td>0</td>\n",
       "      <td>0</td>\n",
       "      <td>0</td>\n",
       "      <td>0</td>\n",
       "      <td>0</td>\n",
       "    </tr>\n",
       "    <tr>\n",
       "      <th>2</th>\n",
       "      <td>7.45</td>\n",
       "      <td>2015</td>\n",
       "      <td>1</td>\n",
       "      <td>3.9</td>\n",
       "      <td>0</td>\n",
       "      <td>0</td>\n",
       "      <td>0</td>\n",
       "      <td>0</td>\n",
       "      <td>0</td>\n",
       "      <td>0</td>\n",
       "      <td>...</td>\n",
       "      <td>0</td>\n",
       "      <td>0</td>\n",
       "      <td>0</td>\n",
       "      <td>0</td>\n",
       "      <td>0</td>\n",
       "      <td>0</td>\n",
       "      <td>0</td>\n",
       "      <td>0</td>\n",
       "      <td>0</td>\n",
       "      <td>0</td>\n",
       "    </tr>\n",
       "    <tr>\n",
       "      <th>3</th>\n",
       "      <td>8.72</td>\n",
       "      <td>2019</td>\n",
       "      <td>1</td>\n",
       "      <td>3.5</td>\n",
       "      <td>0</td>\n",
       "      <td>0</td>\n",
       "      <td>0</td>\n",
       "      <td>0</td>\n",
       "      <td>0</td>\n",
       "      <td>0</td>\n",
       "      <td>...</td>\n",
       "      <td>0</td>\n",
       "      <td>0</td>\n",
       "      <td>0</td>\n",
       "      <td>0</td>\n",
       "      <td>0</td>\n",
       "      <td>0</td>\n",
       "      <td>0</td>\n",
       "      <td>0</td>\n",
       "      <td>0</td>\n",
       "      <td>0</td>\n",
       "    </tr>\n",
       "    <tr>\n",
       "      <th>4</th>\n",
       "      <td>29.15</td>\n",
       "      <td>2016</td>\n",
       "      <td>1</td>\n",
       "      <td>3.9</td>\n",
       "      <td>0</td>\n",
       "      <td>0</td>\n",
       "      <td>1</td>\n",
       "      <td>0</td>\n",
       "      <td>0</td>\n",
       "      <td>0</td>\n",
       "      <td>...</td>\n",
       "      <td>0</td>\n",
       "      <td>0</td>\n",
       "      <td>0</td>\n",
       "      <td>0</td>\n",
       "      <td>0</td>\n",
       "      <td>0</td>\n",
       "      <td>0</td>\n",
       "      <td>0</td>\n",
       "      <td>0</td>\n",
       "      <td>0</td>\n",
       "    </tr>\n",
       "    <tr>\n",
       "      <th>...</th>\n",
       "      <td>...</td>\n",
       "      <td>...</td>\n",
       "      <td>...</td>\n",
       "      <td>...</td>\n",
       "      <td>...</td>\n",
       "      <td>...</td>\n",
       "      <td>...</td>\n",
       "      <td>...</td>\n",
       "      <td>...</td>\n",
       "      <td>...</td>\n",
       "      <td>...</td>\n",
       "      <td>...</td>\n",
       "      <td>...</td>\n",
       "      <td>...</td>\n",
       "      <td>...</td>\n",
       "      <td>...</td>\n",
       "      <td>...</td>\n",
       "      <td>...</td>\n",
       "      <td>...</td>\n",
       "      <td>...</td>\n",
       "      <td>...</td>\n",
       "    </tr>\n",
       "    <tr>\n",
       "      <th>13829</th>\n",
       "      <td>9.36</td>\n",
       "      <td>2019</td>\n",
       "      <td>4</td>\n",
       "      <td>3.9</td>\n",
       "      <td>0</td>\n",
       "      <td>0</td>\n",
       "      <td>0</td>\n",
       "      <td>0</td>\n",
       "      <td>0</td>\n",
       "      <td>0</td>\n",
       "      <td>...</td>\n",
       "      <td>0</td>\n",
       "      <td>0</td>\n",
       "      <td>0</td>\n",
       "      <td>0</td>\n",
       "      <td>0</td>\n",
       "      <td>0</td>\n",
       "      <td>0</td>\n",
       "      <td>0</td>\n",
       "      <td>0</td>\n",
       "      <td>0</td>\n",
       "    </tr>\n",
       "    <tr>\n",
       "      <th>13830</th>\n",
       "      <td>12.85</td>\n",
       "      <td>2019</td>\n",
       "      <td>4</td>\n",
       "      <td>4.0</td>\n",
       "      <td>0</td>\n",
       "      <td>0</td>\n",
       "      <td>0</td>\n",
       "      <td>0</td>\n",
       "      <td>0</td>\n",
       "      <td>0</td>\n",
       "      <td>...</td>\n",
       "      <td>0</td>\n",
       "      <td>0</td>\n",
       "      <td>0</td>\n",
       "      <td>0</td>\n",
       "      <td>0</td>\n",
       "      <td>0</td>\n",
       "      <td>0</td>\n",
       "      <td>0</td>\n",
       "      <td>0</td>\n",
       "      <td>0</td>\n",
       "    </tr>\n",
       "    <tr>\n",
       "      <th>13831</th>\n",
       "      <td>16.47</td>\n",
       "      <td>2019</td>\n",
       "      <td>4</td>\n",
       "      <td>4.2</td>\n",
       "      <td>0</td>\n",
       "      <td>0</td>\n",
       "      <td>0</td>\n",
       "      <td>0</td>\n",
       "      <td>0</td>\n",
       "      <td>0</td>\n",
       "      <td>...</td>\n",
       "      <td>0</td>\n",
       "      <td>0</td>\n",
       "      <td>0</td>\n",
       "      <td>0</td>\n",
       "      <td>0</td>\n",
       "      <td>0</td>\n",
       "      <td>0</td>\n",
       "      <td>0</td>\n",
       "      <td>0</td>\n",
       "      <td>0</td>\n",
       "    </tr>\n",
       "    <tr>\n",
       "      <th>13832</th>\n",
       "      <td>4.35</td>\n",
       "      <td>2050</td>\n",
       "      <td>4</td>\n",
       "      <td>3.5</td>\n",
       "      <td>0</td>\n",
       "      <td>0</td>\n",
       "      <td>0</td>\n",
       "      <td>0</td>\n",
       "      <td>0</td>\n",
       "      <td>0</td>\n",
       "      <td>...</td>\n",
       "      <td>0</td>\n",
       "      <td>0</td>\n",
       "      <td>0</td>\n",
       "      <td>0</td>\n",
       "      <td>0</td>\n",
       "      <td>0</td>\n",
       "      <td>0</td>\n",
       "      <td>0</td>\n",
       "      <td>0</td>\n",
       "      <td>0</td>\n",
       "    </tr>\n",
       "    <tr>\n",
       "      <th>13833</th>\n",
       "      <td>5.99</td>\n",
       "      <td>2050</td>\n",
       "      <td>4</td>\n",
       "      <td>3.6</td>\n",
       "      <td>0</td>\n",
       "      <td>0</td>\n",
       "      <td>0</td>\n",
       "      <td>0</td>\n",
       "      <td>0</td>\n",
       "      <td>0</td>\n",
       "      <td>...</td>\n",
       "      <td>0</td>\n",
       "      <td>0</td>\n",
       "      <td>0</td>\n",
       "      <td>0</td>\n",
       "      <td>0</td>\n",
       "      <td>0</td>\n",
       "      <td>0</td>\n",
       "      <td>0</td>\n",
       "      <td>0</td>\n",
       "      <td>0</td>\n",
       "    </tr>\n",
       "  </tbody>\n",
       "</table>\n",
       "<p>13834 rows × 37 columns</p>\n",
       "</div>"
      ],
      "text/plain": [
       "       Price  Year  WineStyle  Rating  Country_Argentina  Country_Australia  \\\n",
       "0      95.00  2011          1     4.2                  0                  0   \n",
       "1      15.50  2017          1     4.3                  0                  0   \n",
       "2       7.45  2015          1     3.9                  0                  0   \n",
       "3       8.72  2019          1     3.5                  0                  0   \n",
       "4      29.15  2016          1     3.9                  0                  0   \n",
       "...      ...   ...        ...     ...                ...                ...   \n",
       "13829   9.36  2019          4     3.9                  0                  0   \n",
       "13830  12.85  2019          4     4.0                  0                  0   \n",
       "13831  16.47  2019          4     4.2                  0                  0   \n",
       "13832   4.35  2050          4     3.5                  0                  0   \n",
       "13833   5.99  2050          4     3.6                  0                  0   \n",
       "\n",
       "       Country_Austria  Country_Brazil  Country_Bulgaria  Country_Canada  ...  \\\n",
       "0                    0               0                 0               0  ...   \n",
       "1                    0               0                 0               0  ...   \n",
       "2                    0               0                 0               0  ...   \n",
       "3                    0               0                 0               0  ...   \n",
       "4                    1               0                 0               0  ...   \n",
       "...                ...             ...               ...             ...  ...   \n",
       "13829                0               0                 0               0  ...   \n",
       "13830                0               0                 0               0  ...   \n",
       "13831                0               0                 0               0  ...   \n",
       "13832                0               0                 0               0  ...   \n",
       "13833                0               0                 0               0  ...   \n",
       "\n",
       "       Country_Romania  Country_Slovakia  Country_Slovenia  \\\n",
       "0                    0                 0                 0   \n",
       "1                    0                 0                 0   \n",
       "2                    0                 0                 0   \n",
       "3                    0                 0                 0   \n",
       "4                    0                 0                 0   \n",
       "...                ...               ...               ...   \n",
       "13829                0                 0                 0   \n",
       "13830                0                 0                 0   \n",
       "13831                0                 0                 0   \n",
       "13832                0                 0                 0   \n",
       "13833                0                 0                 0   \n",
       "\n",
       "       Country_South Africa  Country_Spain  Country_Switzerland  \\\n",
       "0                         0              0                    0   \n",
       "1                         0              0                    0   \n",
       "2                         0              0                    0   \n",
       "3                         0              0                    0   \n",
       "4                         0              0                    0   \n",
       "...                     ...            ...                  ...   \n",
       "13829                     0              0                    0   \n",
       "13830                     0              0                    0   \n",
       "13831                     0              0                    0   \n",
       "13832                     0              0                    0   \n",
       "13833                     0              0                    0   \n",
       "\n",
       "       Country_Turkey  Country_United Kingdom  Country_United States  \\\n",
       "0                   0                       0                      0   \n",
       "1                   0                       0                      0   \n",
       "2                   0                       0                      0   \n",
       "3                   0                       0                      0   \n",
       "4                   0                       0                      0   \n",
       "...               ...                     ...                    ...   \n",
       "13829               0                       0                      0   \n",
       "13830               0                       0                      0   \n",
       "13831               0                       0                      0   \n",
       "13832               0                       0                      0   \n",
       "13833               0                       0                      0   \n",
       "\n",
       "       Country_Uruguay  \n",
       "0                    0  \n",
       "1                    0  \n",
       "2                    0  \n",
       "3                    0  \n",
       "4                    0  \n",
       "...                ...  \n",
       "13829                0  \n",
       "13830                0  \n",
       "13831                0  \n",
       "13832                0  \n",
       "13833                0  \n",
       "\n",
       "[13834 rows x 37 columns]"
      ]
     },
     "execution_count": 74,
     "metadata": {},
     "output_type": "execute_result"
    }
   ],
   "source": [
    "train_dummy"
   ]
  },
  {
   "cell_type": "code",
   "execution_count": 120,
   "metadata": {},
   "outputs": [
    {
     "data": {
      "text/plain": [
       "Price                     float64\n",
       "Year                        int64\n",
       "WineStyle                   int64\n",
       "Rating                    float64\n",
       "Country_Argentina           uint8\n",
       "Country_Australia           uint8\n",
       "Country_Austria             uint8\n",
       "Country_Brazil              uint8\n",
       "Country_Bulgaria            uint8\n",
       "Country_Canada              uint8\n",
       "Country_Chile               uint8\n",
       "Country_China               uint8\n",
       "Country_Croatia             uint8\n",
       "Country_Czech Republic      uint8\n",
       "Country_France              uint8\n",
       "Country_Georgia             uint8\n",
       "Country_Germany             uint8\n",
       "Country_Greece              uint8\n",
       "Country_Hungary             uint8\n",
       "Country_Israel              uint8\n",
       "Country_Italy               uint8\n",
       "Country_Lebanon             uint8\n",
       "Country_Luxembourg          uint8\n",
       "Country_Mexico              uint8\n",
       "Country_Moldova             uint8\n",
       "Country_New Zealand         uint8\n",
       "Country_Portugal            uint8\n",
       "Country_Romania             uint8\n",
       "Country_Slovakia            uint8\n",
       "Country_Slovenia            uint8\n",
       "Country_South Africa        uint8\n",
       "Country_Spain               uint8\n",
       "Country_Switzerland         uint8\n",
       "Country_Turkey              uint8\n",
       "Country_United Kingdom      uint8\n",
       "Country_United States       uint8\n",
       "Country_Uruguay             uint8\n",
       "dtype: object"
      ]
     },
     "execution_count": 120,
     "metadata": {},
     "output_type": "execute_result"
    }
   ],
   "source": [
    "train_dummy.dtypes"
   ]
  },
  {
   "cell_type": "markdown",
   "metadata": {},
   "source": [
    "### Correlation"
   ]
  },
  {
   "cell_type": "code",
   "execution_count": 81,
   "metadata": {},
   "outputs": [
    {
     "data": {
      "text/html": [
       "<div>\n",
       "<style scoped>\n",
       "    .dataframe tbody tr th:only-of-type {\n",
       "        vertical-align: middle;\n",
       "    }\n",
       "\n",
       "    .dataframe tbody tr th {\n",
       "        vertical-align: top;\n",
       "    }\n",
       "\n",
       "    .dataframe thead th {\n",
       "        text-align: right;\n",
       "    }\n",
       "</style>\n",
       "<table border=\"1\" class=\"dataframe\">\n",
       "  <thead>\n",
       "    <tr style=\"text-align: right;\">\n",
       "      <th></th>\n",
       "      <th>Price</th>\n",
       "      <th>Year</th>\n",
       "      <th>WineStyle</th>\n",
       "      <th>Rating</th>\n",
       "    </tr>\n",
       "  </thead>\n",
       "  <tbody>\n",
       "    <tr>\n",
       "      <th>Price</th>\n",
       "      <td>1.000000</td>\n",
       "      <td>-0.168549</td>\n",
       "      <td>-0.091368</td>\n",
       "      <td>0.450654</td>\n",
       "    </tr>\n",
       "    <tr>\n",
       "      <th>Year</th>\n",
       "      <td>-0.168549</td>\n",
       "      <td>1.000000</td>\n",
       "      <td>0.514261</td>\n",
       "      <td>-0.168703</td>\n",
       "    </tr>\n",
       "    <tr>\n",
       "      <th>WineStyle</th>\n",
       "      <td>-0.091368</td>\n",
       "      <td>0.514261</td>\n",
       "      <td>1.000000</td>\n",
       "      <td>-0.096225</td>\n",
       "    </tr>\n",
       "    <tr>\n",
       "      <th>Rating</th>\n",
       "      <td>0.450654</td>\n",
       "      <td>-0.168703</td>\n",
       "      <td>-0.096225</td>\n",
       "      <td>1.000000</td>\n",
       "    </tr>\n",
       "  </tbody>\n",
       "</table>\n",
       "</div>"
      ],
      "text/plain": [
       "              Price      Year  WineStyle    Rating\n",
       "Price      1.000000 -0.168549  -0.091368  0.450654\n",
       "Year      -0.168549  1.000000   0.514261 -0.168703\n",
       "WineStyle -0.091368  0.514261   1.000000 -0.096225\n",
       "Rating     0.450654 -0.168703  -0.096225  1.000000"
      ]
     },
     "execution_count": 81,
     "metadata": {},
     "output_type": "execute_result"
    }
   ],
   "source": [
    "matrix = train.corr()\n",
    "matrix"
   ]
  },
  {
   "cell_type": "code",
   "execution_count": 84,
   "metadata": {},
   "outputs": [
    {
     "data": {
      "image/png": "[encoded data removed]",
      "text/plain": [
       "<Figure size 1080x648 with 2 Axes>"
      ]
     },
     "metadata": {
      "needs_background": "light"
     },
     "output_type": "display_data"
    }
   ],
   "source": [
    "plt.figure(figsize=(15,9))\n",
    "sns.heatmap(matrix, annot=True);"
   ]
  },
  {
   "cell_type": "markdown",
   "metadata": {},
   "source": [
    "#### Key Takeaway:\n",
    "- There is a significant correlation between ``WineStyle`` and ``Year``. Let's see where this takes us\n",
    "- Moreover, there is no colinearity above 90%, so this means we don't have to worry about dropping any columns"
   ]
  },
  {
   "cell_type": "markdown",
   "metadata": {},
   "source": [
    "### Exporting"
   ]
  },
  {
   "cell_type": "code",
   "execution_count": 80,
   "metadata": {},
   "outputs": [],
   "source": [
    "train_dummy.to_csv(\"../data/train_dummy.csv\")"
   ]
  },
  {
   "cell_type": "markdown",
   "metadata": {},
   "source": [
    "# MODELS"
   ]
  },
  {
   "cell_type": "markdown",
   "metadata": {},
   "source": [
    "We want to predict the ``Rating`` of the wines from the dataset given basic information such as the ``Country of Origin``, the ``Price``, the ``Year`` and of course, the ``Style`` of the wine.\n",
    "\n",
    "To do so, we first separate the data into train and test and take ``Rating`` as the **target**.\n",
    "\n",
    "We take 80% of the data into train and 20% data into test."
   ]
  },
  {
   "cell_type": "code",
   "execution_count": 169,
   "metadata": {},
   "outputs": [],
   "source": [
    "X = train_dummy.drop(columns=[\"Rating\"])\n",
    "y = train_dummy[\"Rating\"]\n",
    "\n",
    "\n",
    "X_train, X_test, y_train, y_test = train_test_split(X,y,test_size=0.20)"
   ]
  },
  {
   "cell_type": "markdown",
   "metadata": {},
   "source": [
    "#### Function to apply and check the models"
   ]
  },
  {
   "cell_type": "code",
   "execution_count": 170,
   "metadata": {},
   "outputs": [],
   "source": [
    "def modeling(X_train, y_train, model, X_test, y_test):\n",
    "    model.fit(X_train,y_train)\n",
    "    y_pred_train=model.predict(X_train)\n",
    "    y_pred_test=model.predict(X_test)\n",
    "    \n",
    "    r2_sc_train=r2_score(y_train, y_pred_train)\n",
    "    r2_sc_test=r2_score(y_test, y_pred_test)\n",
    "    rmse_train=(mean_squared_error(y_train, y_pred_train))**0.5\n",
    "    rmse_test=(mean_squared_error(y_test, y_pred_test))**0.5\n",
    "    \n",
    "    return f\"r2_score of the train data: {r2_sc_train}\", f\"r2_score of the test data: {r2_sc_test}\", f\"rmse of the train data: {rmse_train}\", f\"rmse of the test data: {rmse_test}\""
   ]
  },
  {
   "cell_type": "markdown",
   "metadata": {},
   "source": [
    "## Linear Regression Model"
   ]
  },
  {
   "cell_type": "markdown",
   "metadata": {},
   "source": [
    "### Linear Regression with 20% of data in TEST"
   ]
  },
  {
   "cell_type": "code",
   "execution_count": 171,
   "metadata": {},
   "outputs": [
    {
     "data": {
      "text/plain": [
       "('r2_score of the train data: 0.2333397558421647',\n",
       " 'r2_score of the test data: 0.2545163747828979',\n",
       " 'rmse of the train data: 0.2588910502577271',\n",
       " 'rmse of the test data: 0.25817288623927137')"
      ]
     },
     "execution_count": 171,
     "metadata": {},
     "output_type": "execute_result"
    }
   ],
   "source": [
    "linr = LinearRegression()\n",
    "modeling(X_train, y_train, linr, X_test, y_test)"
   ]
  },
  {
   "cell_type": "markdown",
   "metadata": {},
   "source": [
    "#### Key Takeaway:\n",
    "- This model only reveals that around 25% of the data fits the regression model, which is not very accurate.\n",
    "- Let's cross validate these metrics, and try other models"
   ]
  },
  {
   "cell_type": "markdown",
   "metadata": {},
   "source": [
    "#### Cross validation with TRAIN"
   ]
  },
  {
   "cell_type": "markdown",
   "metadata": {},
   "source": [
    "Choosing the scorers"
   ]
  },
  {
   "cell_type": "code",
   "execution_count": 167,
   "metadata": {},
   "outputs": [
    {
     "data": {
      "text/plain": [
       "dict_keys(['explained_variance', 'r2', 'max_error', 'neg_median_absolute_error', 'neg_mean_absolute_error', 'neg_mean_squared_error', 'neg_mean_squared_log_error', 'neg_root_mean_squared_error', 'neg_mean_poisson_deviance', 'neg_mean_gamma_deviance', 'accuracy', 'roc_auc', 'roc_auc_ovr', 'roc_auc_ovo', 'roc_auc_ovr_weighted', 'roc_auc_ovo_weighted', 'balanced_accuracy', 'average_precision', 'neg_log_loss', 'neg_brier_score', 'adjusted_rand_score', 'homogeneity_score', 'completeness_score', 'v_measure_score', 'mutual_info_score', 'adjusted_mutual_info_score', 'normalized_mutual_info_score', 'fowlkes_mallows_score', 'precision', 'precision_macro', 'precision_micro', 'precision_samples', 'precision_weighted', 'recall', 'recall_macro', 'recall_micro', 'recall_samples', 'recall_weighted', 'f1', 'f1_macro', 'f1_micro', 'f1_samples', 'f1_weighted', 'jaccard', 'jaccard_macro', 'jaccard_micro', 'jaccard_samples', 'jaccard_weighted'])"
      ]
     },
     "execution_count": 167,
     "metadata": {},
     "output_type": "execute_result"
    }
   ],
   "source": [
    "sklearn.metrics.SCORERS.keys()"
   ]
  },
  {
   "cell_type": "code",
   "execution_count": 168,
   "metadata": {},
   "outputs": [
    {
     "data": {
      "text/plain": [
       "array([-73.82829063, -56.57356165, -56.99013743])"
      ]
     },
     "execution_count": 168,
     "metadata": {},
     "output_type": "execute_result"
    }
   ],
   "source": [
    "scores_rmse = cross_val_score(linr, X_train, y_train, cv=3, scoring=\"neg_root_mean_squared_error\")\n",
    "scores_rmse"
   ]
  },
  {
   "cell_type": "code",
   "execution_count": 127,
   "metadata": {},
   "outputs": [
    {
     "data": {
      "text/plain": [
       "array([0.28766191, 0.2626456 , 0.17384759])"
      ]
     },
     "execution_count": 127,
     "metadata": {},
     "output_type": "execute_result"
    }
   ],
   "source": [
    "scores_r2 = cross_val_score(linr, X_train, y_train, cv=3, scoring=\"r2\")\n",
    "scores_r2"
   ]
  },
  {
   "cell_type": "markdown",
   "metadata": {},
   "source": [
    "#### Key Takeaway:\n",
    "- With cross validation we can check wether the metrics we got from the model are random or not. In this case, numbers are very similar, meaning that the scores obtained from the *Linear Regression* model are **not random**\n",
    "- Nevertheless, the model is not well fitted, so let's try other models"
   ]
  },
  {
   "cell_type": "markdown",
   "metadata": {},
   "source": [
    "## K Neighbors Regression"
   ]
  },
  {
   "cell_type": "markdown",
   "metadata": {},
   "source": [
    "Applying the model"
   ]
  },
  {
   "cell_type": "code",
   "execution_count": 118,
   "metadata": {},
   "outputs": [
    {
     "data": {
      "text/plain": [
       "('r2_score of the train data: 0.7968552584428761',\n",
       " 'r2_score of the test data: 0.44115922097961036',\n",
       " 'rmse of the train data: 0.13318359261292248',\n",
       " 'rmse of the test data: 0.2243188299662165')"
      ]
     },
     "execution_count": 118,
     "metadata": {},
     "output_type": "execute_result"
    }
   ],
   "source": [
    "kneigh = KNeighborsRegressor(n_neighbors=2)\n",
    "modeling(X_train, y_train, kneigh, X_test, y_test)"
   ]
  },
  {
   "cell_type": "markdown",
   "metadata": {},
   "source": [
    "Cross-validating"
   ]
  },
  {
   "cell_type": "code",
   "execution_count": 119,
   "metadata": {},
   "outputs": [
    {
     "data": {
      "text/plain": [
       "array([-0.22251306, -0.22644225, -0.2261158 ])"
      ]
     },
     "execution_count": 119,
     "metadata": {},
     "output_type": "execute_result"
    }
   ],
   "source": [
    "scoresKN = cross_val_score(kneigh, X_train, y_train, cv=3, scoring=\"neg_root_mean_squared_error\")\n",
    "scoresKN"
   ]
  },
  {
   "cell_type": "markdown",
   "metadata": {},
   "source": [
    "#### Key Takeaway:\n",
    "- With this model we can see that the r2 is significantly higher than the one from the Linear Regression model, however, let's split the data differently and check whether the r2 improves"
   ]
  },
  {
   "cell_type": "markdown",
   "metadata": {},
   "source": [
    "### Splitting data into train and test with 25%"
   ]
  },
  {
   "cell_type": "code",
   "execution_count": 122,
   "metadata": {},
   "outputs": [],
   "source": [
    "X_train, X_test, y_train, y_test = train_test_split(X,y,test_size=0.25, random_state=42)"
   ]
  },
  {
   "cell_type": "markdown",
   "metadata": {},
   "source": [
    "#### Function that runs KNN for various values of n_neighbors and stores results"
   ]
  },
  {
   "cell_type": "code",
   "execution_count": 153,
   "metadata": {},
   "outputs": [],
   "source": [
    "knn_r_acc = []\n",
    "\n",
    "for i in range(1,26,1):\n",
    "    knn = KNeighborsRegressor(n_neighbors=i)\n",
    "    knn.fit(X_train,y_train)\n",
    "    test_score = knn.score(X_test,y_test)\n",
    "    train_score = knn.score(X_train,y_train)\n",
    "    knn_r_acc.append((i, test_score, train_score))"
   ]
  },
  {
   "cell_type": "markdown",
   "metadata": {},
   "source": [
    "#### Let's see how these scores vary as we increase the value of n_neighbors (or K)"
   ]
  },
  {
   "cell_type": "code",
   "execution_count": 154,
   "metadata": {},
   "outputs": [
    {
     "data": {
      "text/html": [
       "<div>\n",
       "<style scoped>\n",
       "    .dataframe tbody tr th:only-of-type {\n",
       "        vertical-align: middle;\n",
       "    }\n",
       "\n",
       "    .dataframe tbody tr th {\n",
       "        vertical-align: top;\n",
       "    }\n",
       "\n",
       "    .dataframe thead th {\n",
       "        text-align: right;\n",
       "    }\n",
       "</style>\n",
       "<table border=\"1\" class=\"dataframe\">\n",
       "  <thead>\n",
       "    <tr style=\"text-align: right;\">\n",
       "      <th></th>\n",
       "      <th>K</th>\n",
       "      <th>Test Score</th>\n",
       "      <th>Train Score</th>\n",
       "    </tr>\n",
       "  </thead>\n",
       "  <tbody>\n",
       "    <tr>\n",
       "      <th>0</th>\n",
       "      <td>1</td>\n",
       "      <td>0.170059</td>\n",
       "      <td>0.909761</td>\n",
       "    </tr>\n",
       "    <tr>\n",
       "      <th>1</th>\n",
       "      <td>2</td>\n",
       "      <td>0.381669</td>\n",
       "      <td>0.802677</td>\n",
       "    </tr>\n",
       "    <tr>\n",
       "      <th>2</th>\n",
       "      <td>3</td>\n",
       "      <td>0.445806</td>\n",
       "      <td>0.749012</td>\n",
       "    </tr>\n",
       "    <tr>\n",
       "      <th>3</th>\n",
       "      <td>4</td>\n",
       "      <td>0.473693</td>\n",
       "      <td>0.716951</td>\n",
       "    </tr>\n",
       "    <tr>\n",
       "      <th>4</th>\n",
       "      <td>5</td>\n",
       "      <td>0.496030</td>\n",
       "      <td>0.698385</td>\n",
       "    </tr>\n",
       "    <tr>\n",
       "      <th>5</th>\n",
       "      <td>6</td>\n",
       "      <td>0.510318</td>\n",
       "      <td>0.685561</td>\n",
       "    </tr>\n",
       "    <tr>\n",
       "      <th>6</th>\n",
       "      <td>7</td>\n",
       "      <td>0.522404</td>\n",
       "      <td>0.676337</td>\n",
       "    </tr>\n",
       "    <tr>\n",
       "      <th>7</th>\n",
       "      <td>8</td>\n",
       "      <td>0.528674</td>\n",
       "      <td>0.669049</td>\n",
       "    </tr>\n",
       "    <tr>\n",
       "      <th>8</th>\n",
       "      <td>9</td>\n",
       "      <td>0.530306</td>\n",
       "      <td>0.661130</td>\n",
       "    </tr>\n",
       "    <tr>\n",
       "      <th>9</th>\n",
       "      <td>10</td>\n",
       "      <td>0.535778</td>\n",
       "      <td>0.656084</td>\n",
       "    </tr>\n",
       "    <tr>\n",
       "      <th>10</th>\n",
       "      <td>11</td>\n",
       "      <td>0.540019</td>\n",
       "      <td>0.651302</td>\n",
       "    </tr>\n",
       "    <tr>\n",
       "      <th>11</th>\n",
       "      <td>12</td>\n",
       "      <td>0.543176</td>\n",
       "      <td>0.646976</td>\n",
       "    </tr>\n",
       "    <tr>\n",
       "      <th>12</th>\n",
       "      <td>13</td>\n",
       "      <td>0.545869</td>\n",
       "      <td>0.643418</td>\n",
       "    </tr>\n",
       "    <tr>\n",
       "      <th>13</th>\n",
       "      <td>14</td>\n",
       "      <td>0.548373</td>\n",
       "      <td>0.639955</td>\n",
       "    </tr>\n",
       "    <tr>\n",
       "      <th>14</th>\n",
       "      <td>15</td>\n",
       "      <td>0.550048</td>\n",
       "      <td>0.637565</td>\n",
       "    </tr>\n",
       "    <tr>\n",
       "      <th>15</th>\n",
       "      <td>16</td>\n",
       "      <td>0.550106</td>\n",
       "      <td>0.635884</td>\n",
       "    </tr>\n",
       "    <tr>\n",
       "      <th>16</th>\n",
       "      <td>17</td>\n",
       "      <td>0.552039</td>\n",
       "      <td>0.633592</td>\n",
       "    </tr>\n",
       "    <tr>\n",
       "      <th>17</th>\n",
       "      <td>18</td>\n",
       "      <td>0.553272</td>\n",
       "      <td>0.630442</td>\n",
       "    </tr>\n",
       "    <tr>\n",
       "      <th>18</th>\n",
       "      <td>19</td>\n",
       "      <td>0.555785</td>\n",
       "      <td>0.628369</td>\n",
       "    </tr>\n",
       "    <tr>\n",
       "      <th>19</th>\n",
       "      <td>20</td>\n",
       "      <td>0.556482</td>\n",
       "      <td>0.626984</td>\n",
       "    </tr>\n",
       "    <tr>\n",
       "      <th>20</th>\n",
       "      <td>21</td>\n",
       "      <td>0.558375</td>\n",
       "      <td>0.625161</td>\n",
       "    </tr>\n",
       "    <tr>\n",
       "      <th>21</th>\n",
       "      <td>22</td>\n",
       "      <td>0.558741</td>\n",
       "      <td>0.624021</td>\n",
       "    </tr>\n",
       "    <tr>\n",
       "      <th>22</th>\n",
       "      <td>23</td>\n",
       "      <td>0.559937</td>\n",
       "      <td>0.622934</td>\n",
       "    </tr>\n",
       "    <tr>\n",
       "      <th>23</th>\n",
       "      <td>24</td>\n",
       "      <td>0.561362</td>\n",
       "      <td>0.621463</td>\n",
       "    </tr>\n",
       "    <tr>\n",
       "      <th>24</th>\n",
       "      <td>25</td>\n",
       "      <td>0.562874</td>\n",
       "      <td>0.620317</td>\n",
       "    </tr>\n",
       "  </tbody>\n",
       "</table>\n",
       "</div>"
      ],
      "text/plain": [
       "     K  Test Score  Train Score\n",
       "0    1    0.170059     0.909761\n",
       "1    2    0.381669     0.802677\n",
       "2    3    0.445806     0.749012\n",
       "3    4    0.473693     0.716951\n",
       "4    5    0.496030     0.698385\n",
       "5    6    0.510318     0.685561\n",
       "6    7    0.522404     0.676337\n",
       "7    8    0.528674     0.669049\n",
       "8    9    0.530306     0.661130\n",
       "9   10    0.535778     0.656084\n",
       "10  11    0.540019     0.651302\n",
       "11  12    0.543176     0.646976\n",
       "12  13    0.545869     0.643418\n",
       "13  14    0.548373     0.639955\n",
       "14  15    0.550048     0.637565\n",
       "15  16    0.550106     0.635884\n",
       "16  17    0.552039     0.633592\n",
       "17  18    0.553272     0.630442\n",
       "18  19    0.555785     0.628369\n",
       "19  20    0.556482     0.626984\n",
       "20  21    0.558375     0.625161\n",
       "21  22    0.558741     0.624021\n",
       "22  23    0.559937     0.622934\n",
       "23  24    0.561362     0.621463\n",
       "24  25    0.562874     0.620317"
      ]
     },
     "execution_count": 154,
     "metadata": {},
     "output_type": "execute_result"
    }
   ],
   "source": [
    "knr = pd.DataFrame(knn_r_acc, columns=['K','Test Score','Train Score'])\n",
    "knr"
   ]
  },
  {
   "cell_type": "markdown",
   "metadata": {},
   "source": [
    "#### Key Takeaway:\n",
    "- At K=1, the KNN tends to closely follow the training data and thus shows a high training score. However, in comparison, the test score is quite low, thus indicating **overfitting**\n",
    "- at K=25, the model fits better, but even so, it's still overfitted (Train Score > Test Score). Let's try other models"
   ]
  },
  {
   "cell_type": "markdown",
   "metadata": {},
   "source": [
    "## Random Forest"
   ]
  },
  {
   "cell_type": "markdown",
   "metadata": {},
   "source": [
    "Applying the model at 25% split"
   ]
  },
  {
   "cell_type": "code",
   "execution_count": 140,
   "metadata": {},
   "outputs": [
    {
     "data": {
      "text/plain": [
       "('r2_score of the train data: 0.9027705791078591',\n",
       " 'r2_score of the test data: 0.5384747614224232',\n",
       " 'rmse of the train data: 0.09226294397418647',\n",
       " 'rmse of the test data: 0.20244052701836396')"
      ]
     },
     "execution_count": 140,
     "metadata": {},
     "output_type": "execute_result"
    }
   ],
   "source": [
    "ranf = RandomForestRegressor()\n",
    "modeling(X_train, y_train, ranf, X_test, y_test)"
   ]
  },
  {
   "cell_type": "markdown",
   "metadata": {},
   "source": [
    "Cross-validating"
   ]
  },
  {
   "cell_type": "code",
   "execution_count": 141,
   "metadata": {},
   "outputs": [
    {
     "data": {
      "text/plain": [
       "array([-0.20145539, -0.20199572, -0.20477386])"
      ]
     },
     "execution_count": 141,
     "metadata": {},
     "output_type": "execute_result"
    }
   ],
   "source": [
    "scoresRF = cross_val_score(ranf, X_train, y_train, cv=3, scoring=\"neg_root_mean_squared_error\")\n",
    "scoresRF"
   ]
  },
  {
   "cell_type": "markdown",
   "metadata": {},
   "source": [
    "#### Checking with 20% of the TEST data"
   ]
  },
  {
   "cell_type": "code",
   "execution_count": 145,
   "metadata": {},
   "outputs": [],
   "source": [
    "X_train, X_test, y_train, y_test = train_test_split(X,y,test_size=0.20)"
   ]
  },
  {
   "cell_type": "code",
   "execution_count": 146,
   "metadata": {},
   "outputs": [
    {
     "data": {
      "text/plain": [
       "('r2_score of the train data: 0.9050759649630272',\n",
       " 'r2_score of the test data: 0.4983383469724566',\n",
       " 'rmse of the train data: 0.09178389053849387',\n",
       " 'rmse of the test data: 0.20567180742661514')"
      ]
     },
     "execution_count": 146,
     "metadata": {},
     "output_type": "execute_result"
    }
   ],
   "source": [
    "ranf = RandomForestRegressor()\n",
    "modeling(X_train, y_train, ranf, X_test, y_test)"
   ]
  },
  {
   "cell_type": "code",
   "execution_count": 147,
   "metadata": {},
   "outputs": [
    {
     "data": {
      "text/plain": [
       "array([-0.20124615, -0.20357788, -0.19811375])"
      ]
     },
     "execution_count": 147,
     "metadata": {},
     "output_type": "execute_result"
    }
   ],
   "source": [
    "scoresRF = cross_val_score(ranf, X_train, y_train, cv=3, scoring=\"neg_root_mean_squared_error\")\n",
    "scoresRF"
   ]
  },
  {
   "cell_type": "markdown",
   "metadata": {},
   "source": [
    "#### Key Takeaway:\n",
    "- In both cases, the r2 is higher (90%) compared to the previous models. However, it's still very **overfitted** (Train Score > Test Score). Let's try to fix that"
   ]
  },
  {
   "cell_type": "markdown",
   "metadata": {},
   "source": [
    "## GridSearchCV"
   ]
  },
  {
   "cell_type": "markdown",
   "metadata": {},
   "source": [
    "### Optimizing the model with GridSearch"
   ]
  },
  {
   "cell_type": "code",
   "execution_count": 158,
   "metadata": {},
   "outputs": [],
   "source": [
    "params = {'min_samples_leaf':np.arange(20,50,5),\n",
    "          'min_samples_split':np.arange(20,50,5),\n",
    "          'max_depth':np.arange(3,6),\n",
    "          'min_weight_fraction_leaf':np.arange(0,0.4,0.1)}\n",
    "\n",
    "grid_search = RandomizedSearchCV(ranf, \n",
    "                                 params, \n",
    "                                 cv=5, \n",
    "                                 verbose=10, \n",
    "                                 scoring='neg_root_mean_squared_error')"
   ]
  },
  {
   "cell_type": "code",
   "execution_count": null,
   "metadata": {},
   "outputs": [],
   "source": [
    "#grid_search.fit(X_train,y_train)"
   ]
  },
  {
   "cell_type": "code",
   "execution_count": 161,
   "metadata": {},
   "outputs": [
    {
     "data": {
      "text/plain": [
       "RandomForestRegressor(max_depth=5, min_samples_leaf=30, min_samples_split=30)"
      ]
     },
     "execution_count": 161,
     "metadata": {},
     "output_type": "execute_result"
    }
   ],
   "source": [
    "grid_search.best_estimator_"
   ]
  },
  {
   "cell_type": "markdown",
   "metadata": {},
   "source": [
    "### Testing Random Forest"
   ]
  },
  {
   "cell_type": "code",
   "execution_count": 162,
   "metadata": {},
   "outputs": [
    {
     "data": {
      "text/plain": [
       "('r2_score of the train data: 0.586777111113122',\n",
       " 'r2_score of the test data: 0.5578826020398386',\n",
       " 'rmse of the train data: 0.19150078208158808',\n",
       " 'rmse of the test data: 0.1930803666595831')"
      ]
     },
     "execution_count": 162,
     "metadata": {},
     "output_type": "execute_result"
    }
   ],
   "source": [
    "ranf = RandomForestRegressor(min_samples_leaf=30,\n",
    "          min_samples_split=30,\n",
    "          max_depth=5)\n",
    "\n",
    "modeling(X_train, y_train, ranf, X_test, y_test)"
   ]
  },
  {
   "cell_type": "markdown",
   "metadata": {},
   "source": [
    "#### Key Takeaway:\n",
    "- The scores are actually worse"
   ]
  },
  {
   "cell_type": "markdown",
   "metadata": {},
   "source": [
    "## Standardization"
   ]
  },
  {
   "cell_type": "markdown",
   "metadata": {},
   "source": [
    "Machine learning algorithms don't perform well when the input of numerical attributes have very different scales.\n",
    "\n",
    "Standarization takes the max-min of each column and puts it on the same range."
   ]
  },
  {
   "cell_type": "markdown",
   "metadata": {},
   "source": [
    "#### Initializing"
   ]
  },
  {
   "cell_type": "code",
   "execution_count": 190,
   "metadata": {},
   "outputs": [],
   "source": [
    "scaler = StandardScaler()\n",
    "train_scaled = scaler.fit_transform(X_train)\n",
    "train_scaled = pd.DataFrame(train_scaled,columns=X_train.columns)\n",
    "\n",
    "test_scaled = scaler.fit_transform(X_test)\n",
    "test_scaled = pd.DataFrame(test_scaled,columns=X_test.columns)"
   ]
  },
  {
   "cell_type": "code",
   "execution_count": 191,
   "metadata": {},
   "outputs": [
    {
     "data": {
      "text/html": [
       "<div>\n",
       "<style scoped>\n",
       "    .dataframe tbody tr th:only-of-type {\n",
       "        vertical-align: middle;\n",
       "    }\n",
       "\n",
       "    .dataframe tbody tr th {\n",
       "        vertical-align: top;\n",
       "    }\n",
       "\n",
       "    .dataframe thead th {\n",
       "        text-align: right;\n",
       "    }\n",
       "</style>\n",
       "<table border=\"1\" class=\"dataframe\">\n",
       "  <thead>\n",
       "    <tr style=\"text-align: right;\">\n",
       "      <th></th>\n",
       "      <th>Price</th>\n",
       "      <th>Year</th>\n",
       "      <th>WineStyle</th>\n",
       "      <th>Country_Argentina</th>\n",
       "      <th>Country_Australia</th>\n",
       "      <th>Country_Austria</th>\n",
       "      <th>Country_Brazil</th>\n",
       "      <th>Country_Bulgaria</th>\n",
       "      <th>Country_Canada</th>\n",
       "      <th>Country_Chile</th>\n",
       "      <th>...</th>\n",
       "      <th>Country_Romania</th>\n",
       "      <th>Country_Slovakia</th>\n",
       "      <th>Country_Slovenia</th>\n",
       "      <th>Country_South Africa</th>\n",
       "      <th>Country_Spain</th>\n",
       "      <th>Country_Switzerland</th>\n",
       "      <th>Country_Turkey</th>\n",
       "      <th>Country_United Kingdom</th>\n",
       "      <th>Country_United States</th>\n",
       "      <th>Country_Uruguay</th>\n",
       "    </tr>\n",
       "  </thead>\n",
       "  <tbody>\n",
       "    <tr>\n",
       "      <th>0</th>\n",
       "      <td>0.151923</td>\n",
       "      <td>-0.165302</td>\n",
       "      <td>0.654449</td>\n",
       "      <td>-0.152647</td>\n",
       "      <td>-0.151402</td>\n",
       "      <td>-0.192891</td>\n",
       "      <td>-0.057918</td>\n",
       "      <td>-0.013444</td>\n",
       "      <td>-0.016467</td>\n",
       "      <td>-0.178572</td>\n",
       "      <td>...</td>\n",
       "      <td>-0.053</td>\n",
       "      <td>-0.013444</td>\n",
       "      <td>-0.032947</td>\n",
       "      <td>-0.255664</td>\n",
       "      <td>-0.351988</td>\n",
       "      <td>-0.03805</td>\n",
       "      <td>-0.026896</td>\n",
       "      <td>-0.016467</td>\n",
       "      <td>-0.202756</td>\n",
       "      <td>-0.016467</td>\n",
       "    </tr>\n",
       "    <tr>\n",
       "      <th>1</th>\n",
       "      <td>-0.340325</td>\n",
       "      <td>0.071513</td>\n",
       "      <td>-0.669643</td>\n",
       "      <td>-0.152647</td>\n",
       "      <td>-0.151402</td>\n",
       "      <td>-0.192891</td>\n",
       "      <td>-0.057918</td>\n",
       "      <td>-0.013444</td>\n",
       "      <td>-0.016467</td>\n",
       "      <td>-0.178572</td>\n",
       "      <td>...</td>\n",
       "      <td>-0.053</td>\n",
       "      <td>-0.013444</td>\n",
       "      <td>-0.032947</td>\n",
       "      <td>-0.255664</td>\n",
       "      <td>-0.351988</td>\n",
       "      <td>-0.03805</td>\n",
       "      <td>-0.026896</td>\n",
       "      <td>-0.016467</td>\n",
       "      <td>-0.202756</td>\n",
       "      <td>-0.016467</td>\n",
       "    </tr>\n",
       "    <tr>\n",
       "      <th>2</th>\n",
       "      <td>0.684096</td>\n",
       "      <td>-0.520524</td>\n",
       "      <td>-0.669643</td>\n",
       "      <td>-0.152647</td>\n",
       "      <td>-0.151402</td>\n",
       "      <td>5.184262</td>\n",
       "      <td>-0.057918</td>\n",
       "      <td>-0.013444</td>\n",
       "      <td>-0.016467</td>\n",
       "      <td>-0.178572</td>\n",
       "      <td>...</td>\n",
       "      <td>-0.053</td>\n",
       "      <td>-0.013444</td>\n",
       "      <td>-0.032947</td>\n",
       "      <td>-0.255664</td>\n",
       "      <td>-0.351988</td>\n",
       "      <td>-0.03805</td>\n",
       "      <td>-0.026896</td>\n",
       "      <td>-0.016467</td>\n",
       "      <td>-0.202756</td>\n",
       "      <td>-0.016467</td>\n",
       "    </tr>\n",
       "    <tr>\n",
       "      <th>3</th>\n",
       "      <td>-0.229191</td>\n",
       "      <td>-0.046894</td>\n",
       "      <td>-0.669643</td>\n",
       "      <td>-0.152647</td>\n",
       "      <td>-0.151402</td>\n",
       "      <td>-0.192891</td>\n",
       "      <td>-0.057918</td>\n",
       "      <td>-0.013444</td>\n",
       "      <td>-0.016467</td>\n",
       "      <td>-0.178572</td>\n",
       "      <td>...</td>\n",
       "      <td>-0.053</td>\n",
       "      <td>-0.013444</td>\n",
       "      <td>-0.032947</td>\n",
       "      <td>3.911390</td>\n",
       "      <td>-0.351988</td>\n",
       "      <td>-0.03805</td>\n",
       "      <td>-0.026896</td>\n",
       "      <td>-0.016467</td>\n",
       "      <td>-0.202756</td>\n",
       "      <td>-0.016467</td>\n",
       "    </tr>\n",
       "    <tr>\n",
       "      <th>4</th>\n",
       "      <td>-0.270955</td>\n",
       "      <td>-0.283709</td>\n",
       "      <td>0.654449</td>\n",
       "      <td>-0.152647</td>\n",
       "      <td>-0.151402</td>\n",
       "      <td>-0.192891</td>\n",
       "      <td>-0.057918</td>\n",
       "      <td>-0.013444</td>\n",
       "      <td>-0.016467</td>\n",
       "      <td>-0.178572</td>\n",
       "      <td>...</td>\n",
       "      <td>-0.053</td>\n",
       "      <td>-0.013444</td>\n",
       "      <td>30.352100</td>\n",
       "      <td>-0.255664</td>\n",
       "      <td>-0.351988</td>\n",
       "      <td>-0.03805</td>\n",
       "      <td>-0.026896</td>\n",
       "      <td>-0.016467</td>\n",
       "      <td>-0.202756</td>\n",
       "      <td>-0.016467</td>\n",
       "    </tr>\n",
       "  </tbody>\n",
       "</table>\n",
       "<p>5 rows × 36 columns</p>\n",
       "</div>"
      ],
      "text/plain": [
       "      Price      Year  WineStyle  Country_Argentina  Country_Australia  \\\n",
       "0  0.151923 -0.165302   0.654449          -0.152647          -0.151402   \n",
       "1 -0.340325  0.071513  -0.669643          -0.152647          -0.151402   \n",
       "2  0.684096 -0.520524  -0.669643          -0.152647          -0.151402   \n",
       "3 -0.229191 -0.046894  -0.669643          -0.152647          -0.151402   \n",
       "4 -0.270955 -0.283709   0.654449          -0.152647          -0.151402   \n",
       "\n",
       "   Country_Austria  Country_Brazil  Country_Bulgaria  Country_Canada  \\\n",
       "0        -0.192891       -0.057918         -0.013444       -0.016467   \n",
       "1        -0.192891       -0.057918         -0.013444       -0.016467   \n",
       "2         5.184262       -0.057918         -0.013444       -0.016467   \n",
       "3        -0.192891       -0.057918         -0.013444       -0.016467   \n",
       "4        -0.192891       -0.057918         -0.013444       -0.016467   \n",
       "\n",
       "   Country_Chile  ...  Country_Romania  Country_Slovakia  Country_Slovenia  \\\n",
       "0      -0.178572  ...           -0.053         -0.013444         -0.032947   \n",
       "1      -0.178572  ...           -0.053         -0.013444         -0.032947   \n",
       "2      -0.178572  ...           -0.053         -0.013444         -0.032947   \n",
       "3      -0.178572  ...           -0.053         -0.013444         -0.032947   \n",
       "4      -0.178572  ...           -0.053         -0.013444         30.352100   \n",
       "\n",
       "   Country_South Africa  Country_Spain  Country_Switzerland  Country_Turkey  \\\n",
       "0             -0.255664      -0.351988             -0.03805       -0.026896   \n",
       "1             -0.255664      -0.351988             -0.03805       -0.026896   \n",
       "2             -0.255664      -0.351988             -0.03805       -0.026896   \n",
       "3              3.911390      -0.351988             -0.03805       -0.026896   \n",
       "4             -0.255664      -0.351988             -0.03805       -0.026896   \n",
       "\n",
       "   Country_United Kingdom  Country_United States  Country_Uruguay  \n",
       "0               -0.016467              -0.202756        -0.016467  \n",
       "1               -0.016467              -0.202756        -0.016467  \n",
       "2               -0.016467              -0.202756        -0.016467  \n",
       "3               -0.016467              -0.202756        -0.016467  \n",
       "4               -0.016467              -0.202756        -0.016467  \n",
       "\n",
       "[5 rows x 36 columns]"
      ]
     },
     "execution_count": 191,
     "metadata": {},
     "output_type": "execute_result"
    }
   ],
   "source": [
    "train_scaled.head()"
   ]
  },
  {
   "cell_type": "code",
   "execution_count": 192,
   "metadata": {},
   "outputs": [
    {
     "data": {
      "text/html": [
       "<div>\n",
       "<style scoped>\n",
       "    .dataframe tbody tr th:only-of-type {\n",
       "        vertical-align: middle;\n",
       "    }\n",
       "\n",
       "    .dataframe tbody tr th {\n",
       "        vertical-align: top;\n",
       "    }\n",
       "\n",
       "    .dataframe thead th {\n",
       "        text-align: right;\n",
       "    }\n",
       "</style>\n",
       "<table border=\"1\" class=\"dataframe\">\n",
       "  <thead>\n",
       "    <tr style=\"text-align: right;\">\n",
       "      <th></th>\n",
       "      <th>Price</th>\n",
       "      <th>Year</th>\n",
       "      <th>WineStyle</th>\n",
       "      <th>Country_Argentina</th>\n",
       "      <th>Country_Australia</th>\n",
       "      <th>Country_Austria</th>\n",
       "      <th>Country_Brazil</th>\n",
       "      <th>Country_Bulgaria</th>\n",
       "      <th>Country_Canada</th>\n",
       "      <th>Country_Chile</th>\n",
       "      <th>...</th>\n",
       "      <th>Country_Romania</th>\n",
       "      <th>Country_Slovakia</th>\n",
       "      <th>Country_Slovenia</th>\n",
       "      <th>Country_South Africa</th>\n",
       "      <th>Country_Spain</th>\n",
       "      <th>Country_Switzerland</th>\n",
       "      <th>Country_Turkey</th>\n",
       "      <th>Country_United Kingdom</th>\n",
       "      <th>Country_United States</th>\n",
       "      <th>Country_Uruguay</th>\n",
       "    </tr>\n",
       "  </thead>\n",
       "  <tbody>\n",
       "    <tr>\n",
       "      <th>0</th>\n",
       "      <td>-0.175831</td>\n",
       "      <td>-0.284645</td>\n",
       "      <td>-0.664277</td>\n",
       "      <td>-0.143724</td>\n",
       "      <td>-0.161105</td>\n",
       "      <td>-0.188557</td>\n",
       "      <td>-0.068705</td>\n",
       "      <td>0.0</td>\n",
       "      <td>0.0</td>\n",
       "      <td>-0.182301</td>\n",
       "      <td>...</td>\n",
       "      <td>-0.046617</td>\n",
       "      <td>0.0</td>\n",
       "      <td>-0.046617</td>\n",
       "      <td>-0.253438</td>\n",
       "      <td>-0.357137</td>\n",
       "      <td>-0.050361</td>\n",
       "      <td>-0.026895</td>\n",
       "      <td>0.0</td>\n",
       "      <td>-0.186492</td>\n",
       "      <td>-0.026895</td>\n",
       "    </tr>\n",
       "    <tr>\n",
       "      <th>1</th>\n",
       "      <td>-0.209471</td>\n",
       "      <td>0.079766</td>\n",
       "      <td>0.675413</td>\n",
       "      <td>-0.143724</td>\n",
       "      <td>-0.161105</td>\n",
       "      <td>-0.188557</td>\n",
       "      <td>-0.068705</td>\n",
       "      <td>0.0</td>\n",
       "      <td>0.0</td>\n",
       "      <td>-0.182301</td>\n",
       "      <td>...</td>\n",
       "      <td>-0.046617</td>\n",
       "      <td>0.0</td>\n",
       "      <td>-0.046617</td>\n",
       "      <td>-0.253438</td>\n",
       "      <td>-0.357137</td>\n",
       "      <td>-0.050361</td>\n",
       "      <td>-0.026895</td>\n",
       "      <td>0.0</td>\n",
       "      <td>-0.186492</td>\n",
       "      <td>-0.026895</td>\n",
       "    </tr>\n",
       "    <tr>\n",
       "      <th>2</th>\n",
       "      <td>-0.334581</td>\n",
       "      <td>0.079766</td>\n",
       "      <td>0.675413</td>\n",
       "      <td>-0.143724</td>\n",
       "      <td>-0.161105</td>\n",
       "      <td>-0.188557</td>\n",
       "      <td>-0.068705</td>\n",
       "      <td>0.0</td>\n",
       "      <td>0.0</td>\n",
       "      <td>-0.182301</td>\n",
       "      <td>...</td>\n",
       "      <td>-0.046617</td>\n",
       "      <td>0.0</td>\n",
       "      <td>-0.046617</td>\n",
       "      <td>-0.253438</td>\n",
       "      <td>-0.357137</td>\n",
       "      <td>-0.050361</td>\n",
       "      <td>-0.026895</td>\n",
       "      <td>0.0</td>\n",
       "      <td>-0.186492</td>\n",
       "      <td>-0.026895</td>\n",
       "    </tr>\n",
       "    <tr>\n",
       "      <th>3</th>\n",
       "      <td>-0.208776</td>\n",
       "      <td>-0.284645</td>\n",
       "      <td>-0.664277</td>\n",
       "      <td>-0.143724</td>\n",
       "      <td>-0.161105</td>\n",
       "      <td>-0.188557</td>\n",
       "      <td>-0.068705</td>\n",
       "      <td>0.0</td>\n",
       "      <td>0.0</td>\n",
       "      <td>-0.182301</td>\n",
       "      <td>...</td>\n",
       "      <td>-0.046617</td>\n",
       "      <td>0.0</td>\n",
       "      <td>-0.046617</td>\n",
       "      <td>-0.253438</td>\n",
       "      <td>-0.357137</td>\n",
       "      <td>-0.050361</td>\n",
       "      <td>-0.026895</td>\n",
       "      <td>0.0</td>\n",
       "      <td>-0.186492</td>\n",
       "      <td>-0.026895</td>\n",
       "    </tr>\n",
       "    <tr>\n",
       "      <th>4</th>\n",
       "      <td>-0.298438</td>\n",
       "      <td>-0.041705</td>\n",
       "      <td>0.675413</td>\n",
       "      <td>-0.143724</td>\n",
       "      <td>-0.161105</td>\n",
       "      <td>-0.188557</td>\n",
       "      <td>-0.068705</td>\n",
       "      <td>0.0</td>\n",
       "      <td>0.0</td>\n",
       "      <td>-0.182301</td>\n",
       "      <td>...</td>\n",
       "      <td>-0.046617</td>\n",
       "      <td>0.0</td>\n",
       "      <td>-0.046617</td>\n",
       "      <td>-0.253438</td>\n",
       "      <td>-0.357137</td>\n",
       "      <td>-0.050361</td>\n",
       "      <td>-0.026895</td>\n",
       "      <td>0.0</td>\n",
       "      <td>-0.186492</td>\n",
       "      <td>-0.026895</td>\n",
       "    </tr>\n",
       "  </tbody>\n",
       "</table>\n",
       "<p>5 rows × 36 columns</p>\n",
       "</div>"
      ],
      "text/plain": [
       "      Price      Year  WineStyle  Country_Argentina  Country_Australia  \\\n",
       "0 -0.175831 -0.284645  -0.664277          -0.143724          -0.161105   \n",
       "1 -0.209471  0.079766   0.675413          -0.143724          -0.161105   \n",
       "2 -0.334581  0.079766   0.675413          -0.143724          -0.161105   \n",
       "3 -0.208776 -0.284645  -0.664277          -0.143724          -0.161105   \n",
       "4 -0.298438 -0.041705   0.675413          -0.143724          -0.161105   \n",
       "\n",
       "   Country_Austria  Country_Brazil  Country_Bulgaria  Country_Canada  \\\n",
       "0        -0.188557       -0.068705               0.0             0.0   \n",
       "1        -0.188557       -0.068705               0.0             0.0   \n",
       "2        -0.188557       -0.068705               0.0             0.0   \n",
       "3        -0.188557       -0.068705               0.0             0.0   \n",
       "4        -0.188557       -0.068705               0.0             0.0   \n",
       "\n",
       "   Country_Chile  ...  Country_Romania  Country_Slovakia  Country_Slovenia  \\\n",
       "0      -0.182301  ...        -0.046617               0.0         -0.046617   \n",
       "1      -0.182301  ...        -0.046617               0.0         -0.046617   \n",
       "2      -0.182301  ...        -0.046617               0.0         -0.046617   \n",
       "3      -0.182301  ...        -0.046617               0.0         -0.046617   \n",
       "4      -0.182301  ...        -0.046617               0.0         -0.046617   \n",
       "\n",
       "   Country_South Africa  Country_Spain  Country_Switzerland  Country_Turkey  \\\n",
       "0             -0.253438      -0.357137            -0.050361       -0.026895   \n",
       "1             -0.253438      -0.357137            -0.050361       -0.026895   \n",
       "2             -0.253438      -0.357137            -0.050361       -0.026895   \n",
       "3             -0.253438      -0.357137            -0.050361       -0.026895   \n",
       "4             -0.253438      -0.357137            -0.050361       -0.026895   \n",
       "\n",
       "   Country_United Kingdom  Country_United States  Country_Uruguay  \n",
       "0                     0.0              -0.186492        -0.026895  \n",
       "1                     0.0              -0.186492        -0.026895  \n",
       "2                     0.0              -0.186492        -0.026895  \n",
       "3                     0.0              -0.186492        -0.026895  \n",
       "4                     0.0              -0.186492        -0.026895  \n",
       "\n",
       "[5 rows x 36 columns]"
      ]
     },
     "execution_count": 192,
     "metadata": {},
     "output_type": "execute_result"
    }
   ],
   "source": [
    "test_scaled.head()"
   ]
  },
  {
   "cell_type": "code",
   "execution_count": null,
   "metadata": {},
   "outputs": [],
   "source": [
    "train_scaled['id'] = train['id']\n",
    "train_scaled['Rating'] = train['price']\n",
    "test_scaled['id'] = test['id']"
   ]
  },
  {
   "cell_type": "code",
   "execution_count": null,
   "metadata": {},
   "outputs": [],
   "source": [
    "X_train = train_scaled.drop(columns = ['price','id'])\n",
    "y_train = train.price\n",
    "X_test = test_scaled.drop(columns = ['id'])"
   ]
  },
  {
   "cell_type": "code",
   "execution_count": null,
   "metadata": {},
   "outputs": [],
   "source": []
  },
  {
   "cell_type": "code",
   "execution_count": null,
   "metadata": {},
   "outputs": [],
   "source": []
  },
  {
   "cell_type": "code",
   "execution_count": null,
   "metadata": {},
   "outputs": [],
   "source": []
  },
  {
   "cell_type": "code",
   "execution_count": null,
   "metadata": {},
   "outputs": [],
   "source": []
  },
  {
   "cell_type": "code",
   "execution_count": null,
   "metadata": {},
   "outputs": [],
   "source": []
  },
  {
   "cell_type": "code",
   "execution_count": null,
   "metadata": {},
   "outputs": [],
   "source": []
  },
  {
   "cell_type": "code",
   "execution_count": null,
   "metadata": {},
   "outputs": [],
   "source": []
  },
  {
   "cell_type": "code",
   "execution_count": null,
   "metadata": {},
   "outputs": [],
   "source": []
  },
  {
   "cell_type": "code",
   "execution_count": 193,
   "metadata": {},
   "outputs": [
    {
     "data": {
      "text/plain": [
       "Index(['Price', 'Year', 'WineStyle', 'Rating', 'Country_Argentina',\n",
       "       'Country_Australia', 'Country_Austria', 'Country_Brazil',\n",
       "       'Country_Bulgaria', 'Country_Canada', 'Country_Chile', 'Country_China',\n",
       "       'Country_Croatia', 'Country_Czech Republic', 'Country_France',\n",
       "       'Country_Georgia', 'Country_Germany', 'Country_Greece',\n",
       "       'Country_Hungary', 'Country_Israel', 'Country_Italy', 'Country_Lebanon',\n",
       "       'Country_Luxembourg', 'Country_Mexico', 'Country_Moldova',\n",
       "       'Country_New Zealand', 'Country_Portugal', 'Country_Romania',\n",
       "       'Country_Slovakia', 'Country_Slovenia', 'Country_South Africa',\n",
       "       'Country_Spain', 'Country_Switzerland', 'Country_Turkey',\n",
       "       'Country_United Kingdom', 'Country_United States', 'Country_Uruguay'],\n",
       "      dtype='object')"
      ]
     },
     "execution_count": 193,
     "metadata": {},
     "output_type": "execute_result"
    }
   ],
   "source": [
    "train_dummy.columns"
   ]
  },
  {
   "cell_type": "code",
   "execution_count": 194,
   "metadata": {},
   "outputs": [],
   "source": [
    "test = train_dummy.drop(\"Rating\", axis=1)"
   ]
  },
  {
   "cell_type": "code",
   "execution_count": 195,
   "metadata": {},
   "outputs": [
    {
     "data": {
      "text/html": [
       "<div>\n",
       "<style scoped>\n",
       "    .dataframe tbody tr th:only-of-type {\n",
       "        vertical-align: middle;\n",
       "    }\n",
       "\n",
       "    .dataframe tbody tr th {\n",
       "        vertical-align: top;\n",
       "    }\n",
       "\n",
       "    .dataframe thead th {\n",
       "        text-align: right;\n",
       "    }\n",
       "</style>\n",
       "<table border=\"1\" class=\"dataframe\">\n",
       "  <thead>\n",
       "    <tr style=\"text-align: right;\">\n",
       "      <th></th>\n",
       "      <th>Price</th>\n",
       "      <th>Year</th>\n",
       "      <th>WineStyle</th>\n",
       "      <th>Country_Argentina</th>\n",
       "      <th>Country_Australia</th>\n",
       "      <th>Country_Austria</th>\n",
       "      <th>Country_Brazil</th>\n",
       "      <th>Country_Bulgaria</th>\n",
       "      <th>Country_Canada</th>\n",
       "      <th>Country_Chile</th>\n",
       "      <th>...</th>\n",
       "      <th>Country_Romania</th>\n",
       "      <th>Country_Slovakia</th>\n",
       "      <th>Country_Slovenia</th>\n",
       "      <th>Country_South Africa</th>\n",
       "      <th>Country_Spain</th>\n",
       "      <th>Country_Switzerland</th>\n",
       "      <th>Country_Turkey</th>\n",
       "      <th>Country_United Kingdom</th>\n",
       "      <th>Country_United States</th>\n",
       "      <th>Country_Uruguay</th>\n",
       "    </tr>\n",
       "  </thead>\n",
       "  <tbody>\n",
       "    <tr>\n",
       "      <th>0</th>\n",
       "      <td>95.00</td>\n",
       "      <td>2011</td>\n",
       "      <td>1</td>\n",
       "      <td>0</td>\n",
       "      <td>0</td>\n",
       "      <td>0</td>\n",
       "      <td>0</td>\n",
       "      <td>0</td>\n",
       "      <td>0</td>\n",
       "      <td>0</td>\n",
       "      <td>...</td>\n",
       "      <td>0</td>\n",
       "      <td>0</td>\n",
       "      <td>0</td>\n",
       "      <td>0</td>\n",
       "      <td>0</td>\n",
       "      <td>0</td>\n",
       "      <td>0</td>\n",
       "      <td>0</td>\n",
       "      <td>0</td>\n",
       "      <td>0</td>\n",
       "    </tr>\n",
       "    <tr>\n",
       "      <th>1</th>\n",
       "      <td>15.50</td>\n",
       "      <td>2017</td>\n",
       "      <td>1</td>\n",
       "      <td>0</td>\n",
       "      <td>0</td>\n",
       "      <td>0</td>\n",
       "      <td>0</td>\n",
       "      <td>0</td>\n",
       "      <td>0</td>\n",
       "      <td>0</td>\n",
       "      <td>...</td>\n",
       "      <td>0</td>\n",
       "      <td>0</td>\n",
       "      <td>0</td>\n",
       "      <td>0</td>\n",
       "      <td>0</td>\n",
       "      <td>0</td>\n",
       "      <td>0</td>\n",
       "      <td>0</td>\n",
       "      <td>0</td>\n",
       "      <td>0</td>\n",
       "    </tr>\n",
       "    <tr>\n",
       "      <th>2</th>\n",
       "      <td>7.45</td>\n",
       "      <td>2015</td>\n",
       "      <td>1</td>\n",
       "      <td>0</td>\n",
       "      <td>0</td>\n",
       "      <td>0</td>\n",
       "      <td>0</td>\n",
       "      <td>0</td>\n",
       "      <td>0</td>\n",
       "      <td>0</td>\n",
       "      <td>...</td>\n",
       "      <td>0</td>\n",
       "      <td>0</td>\n",
       "      <td>0</td>\n",
       "      <td>0</td>\n",
       "      <td>0</td>\n",
       "      <td>0</td>\n",
       "      <td>0</td>\n",
       "      <td>0</td>\n",
       "      <td>0</td>\n",
       "      <td>0</td>\n",
       "    </tr>\n",
       "    <tr>\n",
       "      <th>3</th>\n",
       "      <td>8.72</td>\n",
       "      <td>2019</td>\n",
       "      <td>1</td>\n",
       "      <td>0</td>\n",
       "      <td>0</td>\n",
       "      <td>0</td>\n",
       "      <td>0</td>\n",
       "      <td>0</td>\n",
       "      <td>0</td>\n",
       "      <td>0</td>\n",
       "      <td>...</td>\n",
       "      <td>0</td>\n",
       "      <td>0</td>\n",
       "      <td>0</td>\n",
       "      <td>0</td>\n",
       "      <td>0</td>\n",
       "      <td>0</td>\n",
       "      <td>0</td>\n",
       "      <td>0</td>\n",
       "      <td>0</td>\n",
       "      <td>0</td>\n",
       "    </tr>\n",
       "    <tr>\n",
       "      <th>4</th>\n",
       "      <td>29.15</td>\n",
       "      <td>2016</td>\n",
       "      <td>1</td>\n",
       "      <td>0</td>\n",
       "      <td>0</td>\n",
       "      <td>1</td>\n",
       "      <td>0</td>\n",
       "      <td>0</td>\n",
       "      <td>0</td>\n",
       "      <td>0</td>\n",
       "      <td>...</td>\n",
       "      <td>0</td>\n",
       "      <td>0</td>\n",
       "      <td>0</td>\n",
       "      <td>0</td>\n",
       "      <td>0</td>\n",
       "      <td>0</td>\n",
       "      <td>0</td>\n",
       "      <td>0</td>\n",
       "      <td>0</td>\n",
       "      <td>0</td>\n",
       "    </tr>\n",
       "  </tbody>\n",
       "</table>\n",
       "<p>5 rows × 36 columns</p>\n",
       "</div>"
      ],
      "text/plain": [
       "   Price  Year  WineStyle  Country_Argentina  Country_Australia  \\\n",
       "0  95.00  2011          1                  0                  0   \n",
       "1  15.50  2017          1                  0                  0   \n",
       "2   7.45  2015          1                  0                  0   \n",
       "3   8.72  2019          1                  0                  0   \n",
       "4  29.15  2016          1                  0                  0   \n",
       "\n",
       "   Country_Austria  Country_Brazil  Country_Bulgaria  Country_Canada  \\\n",
       "0                0               0                 0               0   \n",
       "1                0               0                 0               0   \n",
       "2                0               0                 0               0   \n",
       "3                0               0                 0               0   \n",
       "4                1               0                 0               0   \n",
       "\n",
       "   Country_Chile  ...  Country_Romania  Country_Slovakia  Country_Slovenia  \\\n",
       "0              0  ...                0                 0                 0   \n",
       "1              0  ...                0                 0                 0   \n",
       "2              0  ...                0                 0                 0   \n",
       "3              0  ...                0                 0                 0   \n",
       "4              0  ...                0                 0                 0   \n",
       "\n",
       "   Country_South Africa  Country_Spain  Country_Switzerland  Country_Turkey  \\\n",
       "0                     0              0                    0               0   \n",
       "1                     0              0                    0               0   \n",
       "2                     0              0                    0               0   \n",
       "3                     0              0                    0               0   \n",
       "4                     0              0                    0               0   \n",
       "\n",
       "   Country_United Kingdom  Country_United States  Country_Uruguay  \n",
       "0                       0                      0                0  \n",
       "1                       0                      0                0  \n",
       "2                       0                      0                0  \n",
       "3                       0                      0                0  \n",
       "4                       0                      0                0  \n",
       "\n",
       "[5 rows x 36 columns]"
      ]
     },
     "execution_count": 195,
     "metadata": {},
     "output_type": "execute_result"
    }
   ],
   "source": [
    "test.head()"
   ]
  },
  {
   "cell_type": "code",
   "execution_count": 196,
   "metadata": {},
   "outputs": [],
   "source": [
    "test.to_csv(\"../data/test_dummy.csv\")"
   ]
  },
  {
   "cell_type": "code",
   "execution_count": null,
   "metadata": {},
   "outputs": [],
   "source": []
  }
 ],
 "metadata": {
  "kernelspec": {
   "display_name": "Python 3",
   "language": "python",
   "name": "python3"
  },
  "language_info": {
   "codemirror_mode": {
    "name": "ipython",
    "version": 3
   },
   "file_extension": ".py",
   "mimetype": "text/x-python",
   "name": "python",
   "nbconvert_exporter": "python",
   "pygments_lexer": "ipython3",
   "version": "3.8.5"
  }
 },
 "nbformat": 4,
 "nbformat_minor": 4
}
